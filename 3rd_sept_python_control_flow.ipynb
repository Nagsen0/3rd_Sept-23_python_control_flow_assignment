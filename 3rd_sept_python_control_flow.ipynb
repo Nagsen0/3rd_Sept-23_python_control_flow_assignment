{
 "cells": [
  {
   "cell_type": "markdown",
   "id": "f5652d15-4f01-4d96-ac9e-7cb283c70340",
   "metadata": {},
   "source": [
    "# Control flow"
   ]
  },
  {
   "cell_type": "markdown",
   "id": "6e1a406d-efbc-4168-831c-4f55260cc055",
   "metadata": {},
   "source": [
    "Basic If-Else Statements:"
   ]
  },
  {
   "cell_type": "markdown",
   "id": "12ab9fe9-bed5-421a-927b-2107590d7e0b",
   "metadata": {},
   "source": [
    "1. Write a python program to check if a given number is positive or negative."
   ]
  },
  {
   "cell_type": "code",
   "execution_count": 3,
   "id": "daf4d2f6-71a9-4e39-9255-b5185d380606",
   "metadata": {},
   "outputs": [
    {
     "name": "stdin",
     "output_type": "stream",
     "text": [
      "enter a number: -99\n"
     ]
    },
    {
     "name": "stdout",
     "output_type": "stream",
     "text": [
      "The number is negative.\n"
     ]
    }
   ],
   "source": [
    "# Input a number from the user\n",
    "\n",
    "num=float(input('enter a number:'))\n",
    "\n",
    "# check it is positive or zero\n",
    "\n",
    "if num>=0:\n",
    "    print('The  number is positive or zero.')\n",
    "else:\n",
    "    print('The number is negative.')"
   ]
  },
  {
   "cell_type": "markdown",
   "id": "dfdbfdfc-cd70-409c-aad8-76e64efda9f2",
   "metadata": {},
   "source": [
    "2. Create a program that determines if a person is eligible to vote based on their age."
   ]
  },
  {
   "cell_type": "code",
   "execution_count": 7,
   "id": "fa27804d-759c-4cfd-8ddb-a49f31992f6e",
   "metadata": {},
   "outputs": [
    {
     "name": "stdin",
     "output_type": "stream",
     "text": [
      "enter your age: 20\n"
     ]
    },
    {
     "name": "stdout",
     "output_type": "stream",
     "text": [
      "you are eligible to vote\n"
     ]
    }
   ],
   "source": [
    "# taking age input\n",
    "age=int(input('enter your age:'))\n",
    "\n",
    "if age>=18:\n",
    "    print('you are eligible to vote')\n",
    "else:\n",
    "    print('you are not eligible to vote')"
   ]
  },
  {
   "cell_type": "markdown",
   "id": "ac7b4ef8-98a0-4ee7-805c-06bf8712ab06",
   "metadata": {},
   "source": [
    "3. Develop a program to find the maximum of two numbers using if-else statements."
   ]
  },
  {
   "cell_type": "code",
   "execution_count": 10,
   "id": "51adc0c0-7f0b-4eff-9970-6c019791b154",
   "metadata": {},
   "outputs": [
    {
     "name": "stdin",
     "output_type": "stream",
     "text": [
      "enter first number: 6\n",
      "enter second number: 8\n"
     ]
    },
    {
     "name": "stdout",
     "output_type": "stream",
     "text": [
      "The greater number is 8\n"
     ]
    }
   ],
   "source": [
    "# input numbers\n",
    "\n",
    "num=int(input('enter first number:'))\n",
    "num1=int(input('enter second number:'))\n",
    "\n",
    "if num>num1:\n",
    "    print(f\"The greater number is {num}\")\n",
    "else:\n",
    "    print(f\"The greater number is {num1}\")\n",
    "\n"
   ]
  },
  {
   "cell_type": "markdown",
   "id": "8e2e74ac-5902-4e0f-acb6-2080b7f02cb7",
   "metadata": {},
   "source": [
    "4. Write a python script to classify a given year as a leap year or not."
   ]
  },
  {
   "cell_type": "code",
   "execution_count": 8,
   "id": "ef2b6344-f779-419d-ba74-957942289778",
   "metadata": {},
   "outputs": [
    {
     "name": "stdin",
     "output_type": "stream",
     "text": [
      "enter a year 2024\n"
     ]
    },
    {
     "name": "stdout",
     "output_type": "stream",
     "text": [
      "2024 is a leap year.\n"
     ]
    }
   ],
   "source": [
    "# Input a year\n",
    "\n",
    "year=int(input('enter a year'))\n",
    "\n",
    "# check if it's a leap year\n",
    "if (year%4==0 and year%100!=0) or (year%400==0):\n",
    "    print(year,'is a leap year.')\n",
    "else:\n",
    "    print(year,'is not a leap year.')"
   ]
  },
  {
   "cell_type": "markdown",
   "id": "ce3e2a97-169d-4a82-a2f4-db17472f8570",
   "metadata": {},
   "source": [
    "5. Create a program that checks whether a character is a vowel or a consonant."
   ]
  },
  {
   "cell_type": "code",
   "execution_count": 53,
   "id": "94bd16c9-1f6e-4d26-9093-7108c1fca63f",
   "metadata": {},
   "outputs": [
    {
     "name": "stdin",
     "output_type": "stream",
     "text": [
      "enter a single alphabet character: A\n"
     ]
    },
    {
     "data": {
      "text/plain": [
       "'The character is vowel.'"
      ]
     },
     "execution_count": 53,
     "metadata": {},
     "output_type": "execute_result"
    }
   ],
   "source": [
    "def check_vowel_conso(input_char):\n",
    "    vowels='aeiou'\n",
    "    consonant='bcdfghjklmnpqrstvwxyz'\n",
    "    if input_char in vowels:\n",
    "        return 'The character is vowel.'\n",
    "    elif input_char in consonant:\n",
    "        return 'The character is consonant.'\n",
    "    else:\n",
    "        return'invalid input.'\n",
    "# User Input\n",
    "input_char=input('enter a single alphabet character:').lower()\n",
    "check_vowel_conso(input_char)"
   ]
  },
  {
   "cell_type": "markdown",
   "id": "f07db435-e5df-47b3-8bcf-184ad7f38191",
   "metadata": {},
   "source": [
    "6. Implement a program to determine whether a given number is even or odd."
   ]
  },
  {
   "cell_type": "code",
   "execution_count": 44,
   "id": "6b06cf17-f46f-4a82-b3b7-e18e9f421536",
   "metadata": {},
   "outputs": [
    {
     "name": "stdin",
     "output_type": "stream",
     "text": [
      "enter a number: 5\n"
     ]
    },
    {
     "data": {
      "text/plain": [
       "'The number is odd.'"
      ]
     },
     "execution_count": 44,
     "metadata": {},
     "output_type": "execute_result"
    }
   ],
   "source": [
    "def check_even_odd(number):\n",
    "    if number%2==0:\n",
    "        return 'The number is even.'\n",
    "    else:\n",
    "        return 'The number is odd.'\n",
    "    \n",
    "number=int(input('enter a number:'))\n",
    "    \n",
    "check_even_odd(number)"
   ]
  },
  {
   "cell_type": "markdown",
   "id": "6bf8501a-c8c1-40ba-8496-9dd65261440e",
   "metadata": {},
   "source": [
    "7. Write a python function to calculate the absolute value of a number without using the abs() function."
   ]
  },
  {
   "cell_type": "code",
   "execution_count": 60,
   "id": "03f72c69-2f92-46bd-a83e-6fc73ab6dc60",
   "metadata": {},
   "outputs": [
    {
     "name": "stdin",
     "output_type": "stream",
     "text": [
      "enter a number: -555\n"
     ]
    },
    {
     "name": "stdout",
     "output_type": "stream",
     "text": [
      "The absolute value of number is: 555\n"
     ]
    }
   ],
   "source": [
    "# User input\n",
    "\n",
    "number=int(input('enter a number:'))\n",
    "\n",
    "if number<0:\n",
    "    print('The absolute value of number is:',-number)\n",
    "else:\n",
    "    print('The absolute value of number is:',number)\n"
   ]
  },
  {
   "cell_type": "markdown",
   "id": "2e6916c4-2461-4efd-bc67-54d4f543e740",
   "metadata": {},
   "source": [
    "8. Develop a program that determines the largest of three given numbers using if-else statements."
   ]
  },
  {
   "cell_type": "code",
   "execution_count": 79,
   "id": "742a1681-5b5b-4ad9-a498-e3dc957f7320",
   "metadata": {},
   "outputs": [
    {
     "name": "stdin",
     "output_type": "stream",
     "text": [
      "enter 1st number 3\n",
      "enter 2nd number 7\n",
      "enter 3rd number 7\n"
     ]
    },
    {
     "name": "stdout",
     "output_type": "stream",
     "text": [
      "The largest number is: 7\n"
     ]
    }
   ],
   "source": [
    "# User input\n",
    "num1=int(input('enter 1st number'))\n",
    "num2=int(input('enter 2nd number'))\n",
    "num3=int(input('enter 3rd number'))\n",
    "\n",
    "if num1>num2 and num1>num3:\n",
    "    print('The largest number is:',num1)\n",
    "elif num2>num1 and num2>num3:\n",
    "    print('The largest number is:',num2)\n",
    "else:\n",
    "    print('The largest number is:',num3)"
   ]
  },
  {
   "cell_type": "markdown",
   "id": "0e749392-23bd-4d23-8ed1-09b8e3f8a3da",
   "metadata": {},
   "source": [
    "9. Create a program that checks if a given string is a palindrome."
   ]
  },
  {
   "cell_type": "code",
   "execution_count": 73,
   "id": "2c9143e2-1ec8-4d19-9b3d-dcf88802dd27",
   "metadata": {},
   "outputs": [
    {
     "name": "stdin",
     "output_type": "stream",
     "text": [
      "enter a string: Madam\n"
     ]
    },
    {
     "name": "stdout",
     "output_type": "stream",
     "text": [
      "madam is a palindrome string.\n"
     ]
    }
   ],
   "source": [
    "# user input\n",
    "# make it lowercase for case-insensitive comparison\n",
    "string=input('enter a string:').lower()\n",
    "\n",
    "if string==string[::-1]:\n",
    "    print(string,'is a palindrome string.')\n",
    "else:\n",
    "    print(string,'is not a palindrome string.')"
   ]
  },
  {
   "cell_type": "markdown",
   "id": "f7763cdd-a877-43e5-82b9-453d468d1955",
   "metadata": {},
   "source": [
    "10. Write a Python program to calculate the grade based on a student's score."
   ]
  },
  {
   "cell_type": "code",
   "execution_count": 77,
   "id": "6fcff038-01f6-4f24-82ba-d78692d873fb",
   "metadata": {},
   "outputs": [
    {
     "name": "stdin",
     "output_type": "stream",
     "text": [
      "enter students score: 80.5\n"
     ]
    },
    {
     "name": "stdout",
     "output_type": "stream",
     "text": [
      "The student's grade is: B\n"
     ]
    }
   ],
   "source": [
    "# user input\n",
    "\n",
    "score=float(input('enter students score:'))\n",
    "\n",
    "if score>=90:\n",
    "    grade='A'\n",
    "elif score>=80:\n",
    "    grade='B'\n",
    "elif score>=70:\n",
    "    grade='C'\n",
    "elif score>=60:\n",
    "    grade='D'\n",
    "else:\n",
    "    grade='F'\n",
    "    \n",
    "# Print the grade \n",
    "\n",
    "print(\"The student's grade is:\",grade)"
   ]
  },
  {
   "cell_type": "markdown",
   "id": "be7c337e-5a2f-48ed-b298-9007c246e508",
   "metadata": {},
   "source": [
    "Nested If-Else Statements:"
   ]
  },
  {
   "cell_type": "markdown",
   "id": "e91dbec2-4c18-433a-9191-fc88e48e2089",
   "metadata": {},
   "source": [
    "11. Write a program to find the largest among three numbers using nested if-else statements."
   ]
  },
  {
   "cell_type": "code",
   "execution_count": 83,
   "id": "1fdfff05-07b7-4581-87db-c527e40c3809",
   "metadata": {},
   "outputs": [
    {
     "name": "stdin",
     "output_type": "stream",
     "text": [
      "enter 1st number: 358\n",
      "enter 2nd number: 678\n",
      "enter 3rd number: 3345\n"
     ]
    },
    {
     "name": "stdout",
     "output_type": "stream",
     "text": [
      "The largest number among 358.0 , 678.0 and 3345.0 is: 3345.0\n"
     ]
    }
   ],
   "source": [
    "# User Input\n",
    "num1=float(input('enter 1st number:'))\n",
    "num2=float(input('enter 2nd number:'))\n",
    "num3=float(input('enter 3rd number:'))\n",
    "\n",
    "# Compare numbers\n",
    "\n",
    "if num1>=num2:\n",
    "    if num1>=num3:\n",
    "        largest=num1\n",
    "    else:\n",
    "        largest=num3\n",
    "else:\n",
    "    if num2>=num3:\n",
    "        largest=num2\n",
    "    else:\n",
    "        largest=num3\n",
    "\n",
    "# Print result\n",
    "\n",
    "print('The largest number among',num1,',',num2,'and',num3, 'is:',largest)"
   ]
  },
  {
   "cell_type": "markdown",
   "id": "a5ee73fb-751c-4349-b883-4dbdc0e5165f",
   "metadata": {},
   "source": [
    "12. Implement a program to determine if a triangle is equilateral, isosceles, or scalene."
   ]
  },
  {
   "cell_type": "code",
   "execution_count": 86,
   "id": "db758999-cc55-4468-ab4d-a6f6d9c08ea8",
   "metadata": {},
   "outputs": [
    {
     "name": "stdin",
     "output_type": "stream",
     "text": [
      "enter the length of the first side: 6\n",
      "enter the length of the second side: 5\n",
      "enter the length of the third side: 8\n"
     ]
    },
    {
     "name": "stdout",
     "output_type": "stream",
     "text": [
      "it's a scalene triangle.\n"
     ]
    }
   ],
   "source": [
    "# User Input for three sides of triangle\n",
    "\n",
    "side1=float(input('enter the length of the first side:'))\n",
    "side2=float(input('enter the length of the second side:'))\n",
    "side3=float(input('enter the length of the third side:'))\n",
    "\n",
    "# Check if its a valid triangle\n",
    "\n",
    "if side1+side2<=side3 or side1+side3<=side2 or side2+side3<=side1:\n",
    "    print(\"it's not a valid triangle.\")\n",
    "else:\n",
    "    if side1==side2==side3:\n",
    "        print(\"It's an equilateral triangle.\")\n",
    "    elif side1==side2 or side1==side3 or side2==side3:\n",
    "        print(\"It's an isosceles triangle.\")\n",
    "    else:\n",
    "        print(\"it's a scalene triangle.\")"
   ]
  },
  {
   "cell_type": "markdown",
   "id": "747af580-bf7e-4e1d-8823-f47131d81c9b",
   "metadata": {},
   "source": [
    "13. Develop a program that checks if a year is a leap year and also if it is a century year."
   ]
  },
  {
   "cell_type": "code",
   "execution_count": 4,
   "id": "cdaf87c1-4efd-43c4-a574-089690005aaa",
   "metadata": {},
   "outputs": [
    {
     "name": "stdin",
     "output_type": "stream",
     "text": [
      "Enter a year: 1900\n"
     ]
    },
    {
     "name": "stdout",
     "output_type": "stream",
     "text": [
      "1900 is a century year.\n"
     ]
    }
   ],
   "source": [
    "# Input a year from the user\n",
    "\n",
    "year=int(input('Enter a year:'))\n",
    "\n",
    "# Check if it's a leap year\n",
    "is_leap_year=(year%4==0 and year%100!=0) or (year%400==0)\n",
    "\n",
    "# check_if it's a century year\n",
    "is_century_year=year%100==0\n",
    "\n",
    "# Print the result\n",
    "if is_leap_year:\n",
    "    if is_century_year:\n",
    "        print(year,'is a leap year and a century year.')\n",
    "    else:\n",
    "        print(year,'is a leap year but not a century year.')\n",
    "        \n",
    "else:\n",
    "    if is_century_year:\n",
    "        print(year,'is a century year.')\n",
    "    else:\n",
    "        print(year,'is not leap year not a century year.')"
   ]
  },
  {
   "cell_type": "markdown",
   "id": "65c9d8fd-86b9-4859-add1-2a419d6bab67",
   "metadata": {},
   "source": [
    "14. Write a Python script to determine if a number is positive,negative, or zero."
   ]
  },
  {
   "cell_type": "code",
   "execution_count": 10,
   "id": "ef98f58b-d2f3-477f-9f1c-796ab0b62bc5",
   "metadata": {},
   "outputs": [
    {
     "name": "stdin",
     "output_type": "stream",
     "text": [
      "enter a number: 0\n"
     ]
    },
    {
     "name": "stdout",
     "output_type": "stream",
     "text": [
      "The number is zero.\n"
     ]
    }
   ],
   "source": [
    "# User input\n",
    "num=float(input('enter a number:'))\n",
    "\n",
    "# Check if it is positive, negative, or zero\n",
    "\n",
    "if num>=0:\n",
    "    if num==0:\n",
    "        print('The number is zero.')\n",
    "    else:\n",
    "        print('The number is positive.')\n",
    "else:\n",
    "    print('The number is negative.')"
   ]
  },
  {
   "cell_type": "markdown",
   "id": "43c780a4-cf38-4f4f-be99-46d13c38ac1c",
   "metadata": {},
   "source": [
    "15. Create a program to check if a person is a teenager (between 13 and 19 years old)."
   ]
  },
  {
   "cell_type": "code",
   "execution_count": 19,
   "id": "269ad8cf-35cc-4cf1-a0e7-b9acd6256819",
   "metadata": {},
   "outputs": [
    {
     "name": "stdin",
     "output_type": "stream",
     "text": [
      "enter a age: 19\n"
     ]
    },
    {
     "name": "stdout",
     "output_type": "stream",
     "text": [
      "The person is teenager.\n"
     ]
    }
   ],
   "source": [
    "# User input\n",
    "age=int(input('enter a age:'))\n",
    "\n",
    "# Check whether person is teenager or not\n",
    "\n",
    "if age>=13:\n",
    "    if 13<=age<=19:\n",
    "        print('The person is teenager.')\n",
    "    else:\n",
    "        print('The person is not teenager.')\n",
    "else:\n",
    "    print('The person is not teenager.')"
   ]
  },
  {
   "cell_type": "markdown",
   "id": "85f3afab-71b8-4c39-bab8-87a4729b1a74",
   "metadata": {},
   "source": [
    "16. Develop a program that determine the type of angle based on its measure (acute,obtuse or right)."
   ]
  },
  {
   "cell_type": "code",
   "execution_count": 26,
   "id": "39f4fc23-e757-4202-913b-b34e08634d6e",
   "metadata": {},
   "outputs": [
    {
     "name": "stdin",
     "output_type": "stream",
     "text": [
      "enter a angle measure in degrees: 180\n"
     ]
    },
    {
     "name": "stdout",
     "output_type": "stream",
     "text": [
      "This is a straight angle.\n"
     ]
    }
   ],
   "source": [
    "# User input\n",
    "\n",
    "angle=float(input('enter a angle measure in degrees:'))\n",
    "\n",
    "# check the angle\n",
    "if angle>=0:\n",
    "    if angle==0:\n",
    "        print('The angle is zero.')\n",
    "    elif angle>0 and angle<90:\n",
    "        print('The angle is acute.')\n",
    "    elif angle==90:\n",
    "        print('This is a right angle.')\n",
    "    elif angle>90 and angle<180:\n",
    "        print('The angle is obtuse.')\n",
    "    elif angle==180:\n",
    "        print('This is a straight angle.')\n",
    "    else:\n",
    "        print('The angle is neither acute, obtuse, nor a right angle.')\n",
    "else:\n",
    "    print('The angle is neither acute, obtuse, nor a right angle.')\n",
    "    "
   ]
  },
  {
   "cell_type": "markdown",
   "id": "53224951-ada2-4f5b-99a0-109fa9a0aef1",
   "metadata": {},
   "source": [
    "17. Write a Python program to calculate the roots of a quadratic equation."
   ]
  },
  {
   "cell_type": "code",
   "execution_count": 28,
   "id": "1c9a858e-5952-4898-b772-583cff8de477",
   "metadata": {},
   "outputs": [
    {
     "name": "stdin",
     "output_type": "stream",
     "text": [
      "enter the coefficient 'a':  8\n",
      "enter the coefficient 'b':  33\n",
      "enter the coefficient 'c':  90\n"
     ]
    },
    {
     "name": "stdout",
     "output_type": "stream",
     "text": [
      "The roots are complex.\n",
      "Root 1= -2.0625 + 2.6450129961873534 i\n",
      "Root 1= -2.0625 - 2.6450129961873534 i\n"
     ]
    }
   ],
   "source": [
    "import math\n",
    "\n",
    "# Input the coefficients of the quadratic equation.\n",
    "\n",
    "a=float(input(\"enter the coefficient 'a': \"))\n",
    "b=float(input(\"enter the coefficient 'b': \"))\n",
    "c=float(input(\"enter the coefficient 'c': \"))\n",
    "\n",
    "# Calculate the discriminant\n",
    "\n",
    "discriminant=b**2-4*a*c\n",
    "\n",
    "# Check the nature of roots\n",
    "\n",
    "if discriminant>0:\n",
    "    \n",
    "    # Two real and distinct roots\n",
    "    root1=(-b+math.sqrt(discriminant))/(2*a)\n",
    "    root2=(-b- math.sqrt(discriminant))/(2*a)\n",
    "    print(\"The roots are real and distinct.\")\n",
    "    print(\"Root 1 =\",root1)\n",
    "    print(\"Root 2 =\",root2)\n",
    "else:\n",
    "    if discriminant==0:\n",
    "        # One real root (repeated)\n",
    "        \n",
    "        root1=-b/(2*a)\n",
    "        print(\"The root is real and repeated.\")\n",
    "        print(\"Root =\",root1)\n",
    "        \n",
    "    else:\n",
    "        # Complex roots\n",
    "        real_part=-b/(2*a)\n",
    "        imaginary_part=math.sqrt(abs(discriminant))/(2*a)\n",
    "        \n",
    "        print(\"The roots are complex.\")\n",
    "        print(\"Root 1=\",real_part,\"+\",imaginary_part,\"i\")\n",
    "        print(\"Root 1=\",real_part,\"-\",imaginary_part,\"i\")\n"
   ]
  },
  {
   "cell_type": "markdown",
   "id": "4a84112f-ee4f-46fe-ae9f-ef89fda31e47",
   "metadata": {},
   "source": [
    "18. Implement a program to determine the day of the week based on a user-provided number (1 for Monday, 2 for Tuesday, etc.)."
   ]
  },
  {
   "cell_type": "code",
   "execution_count": 40,
   "id": "2dd6c600-65da-4707-a162-f972ad772d69",
   "metadata": {},
   "outputs": [
    {
     "name": "stdin",
     "output_type": "stream",
     "text": [
      "enter a number (1-7) representing the name of week day: 1\n"
     ]
    },
    {
     "name": "stdout",
     "output_type": "stream",
     "text": [
      "The name of the week day for 1 is Monday\n"
     ]
    }
   ],
   "source": [
    "# user input\n",
    "\n",
    "num_day=int(input('enter a number (1-7) representing the name of week day:'))\n",
    "\n",
    "# Check the day of the week\n",
    "\n",
    "if num_day>=1:\n",
    "    if num_day==1:\n",
    "        day_name='Monday'\n",
    "    elif num_day==2:\n",
    "        day_name='Tuesday'\n",
    "    elif num_day==3:\n",
    "        day_name='Wednesday'\n",
    "    elif num_day==4:\n",
    "        day_name='Thursday'\n",
    "    elif num_day==5:\n",
    "        day_name='Friday'\n",
    "    elif num_day==6:\n",
    "        day_name='Saturday'\n",
    "    elif num_day==7:\n",
    "        day_name='Sunday'\n",
    "    else:\n",
    "        day_name='Invalid input. Please enter a number from 1 to 7.'\n",
    "else:\n",
    "    day_name='Invalid input. Please enter a number from 1 to 7'\n",
    "    \n",
    "# Print the result\n",
    "\n",
    "print(\"The name of the week day for\",num_day,\"is\",day_name)"
   ]
  },
  {
   "cell_type": "markdown",
   "id": "cb978700-1647-4838-bfa7-ed0703af4162",
   "metadata": {},
   "source": [
    "19. Create a program that determine if a year is a leap year and also if it is evenly divisible by 400."
   ]
  },
  {
   "cell_type": "code",
   "execution_count": 44,
   "id": "fe8c83cf-99e2-49c7-9657-d391fe050a7a",
   "metadata": {},
   "outputs": [
    {
     "name": "stdin",
     "output_type": "stream",
     "text": [
      "enter a year: 600\n"
     ]
    },
    {
     "name": "stdout",
     "output_type": "stream",
     "text": [
      "600 is not a leap year.\n"
     ]
    }
   ],
   "source": [
    "# Input a year from the user\n",
    "year=int(input('enter a year:'))\n",
    "\n",
    "# Check it's a leap year\n",
    "is_leap_year= (year%4==0 and year%100!=0) or (year%400==0)\n",
    "\n",
    "# check divisible by 400\n",
    "\n",
    "divisible_by_400=year%400==0\n",
    "\n",
    "# Print the result\n",
    "if is_leap_year:\n",
    "    if divisible_by_400:\n",
    "        print(year,\"is a leap year and evenly divisible by 400.\")\n",
    "    else:\n",
    "        print(year,\"is leap year but not evenly divisible by 400.\")\n",
    "else:\n",
    "    print(year,\"is not a leap year.\")"
   ]
  },
  {
   "cell_type": "markdown",
   "id": "bfbf05aa-f93e-45ad-9a81-2378b1448826",
   "metadata": {},
   "source": [
    "20. Develop a program that checks if a given number is prime or not using nested if-else statements."
   ]
  },
  {
   "cell_type": "code",
   "execution_count": 47,
   "id": "5666a428-5caa-4ff3-bff8-7ff45f2b5698",
   "metadata": {},
   "outputs": [
    {
     "name": "stdin",
     "output_type": "stream",
     "text": [
      "Enter a number: 5\n"
     ]
    },
    {
     "name": "stdout",
     "output_type": "stream",
     "text": [
      "5 is a prime number.\n"
     ]
    }
   ],
   "source": [
    "# Input a number from the user\n",
    "\n",
    "num=int(input('Enter a number:'))\n",
    "\n",
    "# Check if the number is greater than 1\n",
    "\n",
    "if num>1:\n",
    "    # Check for factors\n",
    "    is_prime=True\n",
    "    for i in range(2,int(num*0.5)+1):\n",
    "        if num%i==0:\n",
    "            is_prime=False\n",
    "            break\n",
    "    # Nested if-else to determine prime status\n",
    "    if is_prime:\n",
    "        print(num,\"is a prime number.\")\n",
    "    else:\n",
    "        print(num,\"is not a prime number.\")\n",
    "else:\n",
    "    print(num,\"is not a prime number.\")"
   ]
  },
  {
   "cell_type": "markdown",
   "id": "3919c2bc-80fb-4dea-b801-accc1639aba4",
   "metadata": {},
   "source": [
    "Elif Statements:"
   ]
  },
  {
   "cell_type": "markdown",
   "id": "d6bae985-cda5-4496-9a61-4698415ecff5",
   "metadata": {},
   "source": [
    "21. Write a Python program to assign grades based on different ranges of scores using elif statements."
   ]
  },
  {
   "cell_type": "code",
   "execution_count": 2,
   "id": "44bbd699-bd28-4108-986e-b29d0e321e50",
   "metadata": {},
   "outputs": [
    {
     "name": "stdin",
     "output_type": "stream",
     "text": [
      "enter a studen's score out of 100: 88\n"
     ]
    },
    {
     "name": "stdout",
     "output_type": "stream",
     "text": [
      "The grade of the student is : B\n"
     ]
    }
   ],
   "source": [
    "# user input\n",
    "score=float(input(\"enter a studen's score out of 100:\"))\n",
    "\n",
    "# Assign grades \n",
    "\n",
    "if score>=90:\n",
    "    grade='A'\n",
    "elif score>=80:\n",
    "    grade='B'\n",
    "elif score>=70:\n",
    "    grade='C'\n",
    "elif score>=60:\n",
    "    grade='D'\n",
    "else:\n",
    "    grade='F'\n",
    "\n",
    "# Print the result\n",
    "\n",
    "print(\"The grade of the student is :\",grade)\n",
    "    "
   ]
  },
  {
   "cell_type": "markdown",
   "id": "966d2605-0331-422b-83a4-684254c60905",
   "metadata": {},
   "source": [
    "22. Implement a program to determine type of a angle based on its angles."
   ]
  },
  {
   "cell_type": "code",
   "execution_count": 9,
   "id": "596ac9ce-6bbb-413f-84f5-70473bfa8f87",
   "metadata": {},
   "outputs": [
    {
     "name": "stdin",
     "output_type": "stream",
     "text": [
      "enter measure of angle in degrees: 99\n"
     ]
    },
    {
     "name": "stdout",
     "output_type": "stream",
     "text": [
      "The angle is: Obtuse angle\n"
     ]
    }
   ],
   "source": [
    "# taking user input\n",
    "\n",
    "angle=float(input('enter measure of angle in degrees:'))\n",
    "\n",
    "# Check the type of angle\n",
    "\n",
    "if angle==0:\n",
    "    angle_is='Zero angle'\n",
    "elif 0<angle<90:\n",
    "    angle_is='Acute angle'\n",
    "elif angle==90:\n",
    "    angle_is='Right angle'\n",
    "elif 90<angle<180:\n",
    "    angle_is='Obtuse angle'\n",
    "elif angle==180:\n",
    "    angle_is='Straight angle'\n",
    "else:\n",
    "    angle_is='Please enter valid measure'\n",
    "\n",
    "# Print the result\n",
    "\n",
    "print(\"The angle is:\",angle_is)"
   ]
  },
  {
   "cell_type": "markdown",
   "id": "f78054fa-ed6d-4b75-96c9-d50f2a231f0d",
   "metadata": {},
   "source": [
    "23. Develop a program to categorize a given person's BMI into underweight, normal, overweight, or obese using elif statements."
   ]
  },
  {
   "cell_type": "code",
   "execution_count": 14,
   "id": "992a9cb4-f23c-41f4-8024-116ba484c811",
   "metadata": {},
   "outputs": [
    {
     "name": "stdin",
     "output_type": "stream",
     "text": [
      "enter your weight in kilogram: 47\n",
      "enter your height in meters: 1.6\n"
     ]
    },
    {
     "name": "stdout",
     "output_type": "stream",
     "text": [
      "Your BMI is 18.36, which is categorized as 'Underweight'.\n"
     ]
    }
   ],
   "source": [
    "# Function to calculate BMI\n",
    "def calculate_bmi(weight_kg,height_m):\n",
    "    return weight_kg/(height_m**2)\n",
    "\n",
    "# Input weight and height\n",
    "weight=float(input('enter your weight in kilogram:'))\n",
    "height=float(input('enter your height in meters:'))\n",
    "\n",
    "# Calculate BMI\n",
    "bmi=calculate_bmi(weight,height)\n",
    "\n",
    "# Categorize BMI\n",
    "\n",
    "if bmi<18.5:\n",
    "    category='Underweight'\n",
    "elif 18.5<=bmi<24.9:\n",
    "    category='Normal'\n",
    "elif 24.9<=bmi<29.9:\n",
    "    category='Overweight'\n",
    "else:\n",
    "    category='Obese'\n",
    "# Print the result\n",
    "\n",
    "print(f\"Your BMI is {bmi:.2f}, which is categorized as '{category}'.\")"
   ]
  },
  {
   "cell_type": "markdown",
   "id": "ee0e232e-914b-454d-b311-73777abf3ad8",
   "metadata": {},
   "source": [
    "24. Create a program that determines whether a given number is positive, negative, or zero using elif statements."
   ]
  },
  {
   "cell_type": "code",
   "execution_count": 8,
   "id": "bc6542fe-d323-4f84-a464-4373355da5c7",
   "metadata": {},
   "outputs": [
    {
     "name": "stdin",
     "output_type": "stream",
     "text": [
      "enter a number: 88.9\n"
     ]
    },
    {
     "name": "stdout",
     "output_type": "stream",
     "text": [
      "The number is positive.\n"
     ]
    }
   ],
   "source": [
    "# user input\n",
    "\n",
    "num=float(input('enter a number:'))\n",
    "\n",
    "# Check if number is positive, negative or zero\n",
    "\n",
    "if num>0:\n",
    "    print('The number is positive.')\n",
    "elif num==0:\n",
    "    print('The number is zero.')\n",
    "else:\n",
    "    print(\"The number is negative.\")"
   ]
  },
  {
   "cell_type": "markdown",
   "id": "c0404ce5-75dd-44c9-b9c2-b4dea4ee3d9a",
   "metadata": {},
   "source": [
    "25. Write a Python script to determine the type of a character (uppercase, lowercase, or special) using elif statements."
   ]
  },
  {
   "cell_type": "code",
   "execution_count": 11,
   "id": "2b6d8a5c-6a21-43e4-bf13-66950508bfe7",
   "metadata": {},
   "outputs": [
    {
     "name": "stdin",
     "output_type": "stream",
     "text": [
      "enter a character: &\n"
     ]
    },
    {
     "name": "stdout",
     "output_type": "stream",
     "text": [
      "The character is special.\n"
     ]
    }
   ],
   "source": [
    "# Input a character from user\n",
    "\n",
    "char=input('enter a character:')\n",
    "\n",
    "# check the type of the character\n",
    "\n",
    "if char.isupper():\n",
    "    print('The character is uppercase.')\n",
    "elif char.islower():\n",
    "    print('The character is lowercase.')\n",
    "else:\n",
    "    print('The character is special.')"
   ]
  },
  {
   "cell_type": "markdown",
   "id": "4feae575-17f1-4239-b597-95a67e1a53a8",
   "metadata": {},
   "source": [
    "26. Implement a program to calculate the discounted price based on different purchase amounts using elif statements."
   ]
  },
  {
   "cell_type": "code",
   "execution_count": 14,
   "id": "2110c4ce-238f-48f4-bf06-806e9071ed05",
   "metadata": {},
   "outputs": [
    {
     "name": "stdin",
     "output_type": "stream",
     "text": [
      "enter a purchase amount in rupees: 666\n"
     ]
    },
    {
     "name": "stdout",
     "output_type": "stream",
     "text": [
      "Original Price: 666.00\n",
      "Discount Amount: 66.60\n",
      "Discounted Price: 599.40\n"
     ]
    }
   ],
   "source": [
    "# Taking user input\n",
    "\n",
    "purchase_amount=float(input('enter a purchase amount in rupees:'))\n",
    "\n",
    "# Initialize variable for discount rates\n",
    "\n",
    "discount_rate_1=0.10  # 10% discount for purchase over 500\n",
    "discount_rate_2=0.15 # 15% discount for purchase over 1000\n",
    "discount_rate_3=0.20 # 20% discount for purchase over 1500\n",
    "\n",
    "if purchase_amount>=500:\n",
    "    discount=purchase_amount*discount_rate_1\n",
    "elif purchase_amount>=1000:\n",
    "    discount=purchase_amount*discount_rate_2\n",
    "elif purchase_amount>=1500:\n",
    "    discount=purchase_amount*discount_rate_3\n",
    "else:\n",
    "    discount=0   # No discount for purchases below 500 rupees\n",
    "    \n",
    "# calculate discounted price\n",
    "\n",
    "discounted_price=purchase_amount-discount\n",
    "\n",
    "# Display result\n",
    "\n",
    "print(f\"Original Price: {purchase_amount:.2f}\")\n",
    "print(f\"Discount Amount: {discount:.2f}\")\n",
    "print(f\"Discounted Price: {discounted_price:.2f}\")"
   ]
  },
  {
   "cell_type": "markdown",
   "id": "4fb82528-bcac-4936-9360-ef3ff3a95c97",
   "metadata": {},
   "source": [
    "27. Develop a program to calculate the electricity bill based on different consumption slabs using elif statements."
   ]
  },
  {
   "cell_type": "code",
   "execution_count": 3,
   "id": "6b64bbd8-a209-4839-b3f5-605937350cfb",
   "metadata": {},
   "outputs": [
    {
     "name": "stdin",
     "output_type": "stream",
     "text": [
      "enter the units consumed: 200\n"
     ]
    },
    {
     "name": "stdout",
     "output_type": "stream",
     "text": [
      "Electricity Bill: 1200.00\n"
     ]
    }
   ],
   "source": [
    "# Function to calculate electricity bill\n",
    "\n",
    "def calculate_electricity_bill(units_consumed):\n",
    "    # Define electricity rates for different slabs\n",
    "    \n",
    "    slab1_rate=5.50 # rate for first 100 units\n",
    "    slab2_rate=6.50 # rate for next 200 units\n",
    "    slab3_rate=7.50 # rate for units above 300\n",
    "    \n",
    "    # Initialize total bill\n",
    "    \n",
    "    total_bill=0\n",
    "    \n",
    "    # check whick slab the consumption falls into and calculate the bill accordingly\n",
    "    if units_consumed<=100:\n",
    "        total_bill=units_consumed*slab1_rate\n",
    "    elif units_consumed<=300:\n",
    "        total_bill=100*slab1_rate+(units_consumed-100)*slab2_rate\n",
    "    else:\n",
    "        total_bill=100*slab1_rate+200*slab2_rate+(units_consumed-300)*slab3_rate\n",
    "    return total_bill\n",
    "\n",
    "\n",
    "# Input units consumed by user\n",
    "\n",
    "units_consumed=float(input('enter the units consumed:'))\n",
    "\n",
    "# Calculate and display the electricity bill\n",
    "electricity_bill=calculate_electricity_bill(units_consumed)\n",
    "print(f\"Electricity Bill: {electricity_bill:.2f}\")"
   ]
  },
  {
   "cell_type": "markdown",
   "id": "a8092c6b-3fd6-477c-bdde-2a36b015ca82",
   "metadata": {},
   "source": [
    "28. Create a program to determine the type of quadrilateral based on its angles and sides using elif statements."
   ]
  },
  {
   "cell_type": "code",
   "execution_count": 11,
   "id": "1263888b-c55f-4fc4-976c-2ce1ebd4deb0",
   "metadata": {},
   "outputs": [
    {
     "name": "stdin",
     "output_type": "stream",
     "text": [
      "enter the length of side a: 5\n",
      "enter the length of side b: 4\n",
      "enter the length of side c: 3\n",
      "enter the length of side d: 2\n",
      "enter the measure of angle A in degrees: 6\n",
      "enter the measure of angle B in degrees: 7\n",
      "enter the measure of angle C in degrees: 7\n",
      "enter the measure of angle D in degree: 9\n"
     ]
    },
    {
     "name": "stdout",
     "output_type": "stream",
     "text": [
      "This is a Quadrilateral with no specific classification.\n"
     ]
    }
   ],
   "source": [
    "# Function to determine the type of quadrilateral\n",
    "def determine_quadrilateral_type(a,b,c,d,A,B,C,D):\n",
    "    if a==b==c==d: # All sides are equal\n",
    "        if A==B==C==D :  # All angles are equal\n",
    "            if A==90:  # All angles are right angles\n",
    "                return \"square\"\n",
    "            else:\n",
    "                return \"Rhombus\"\n",
    "        else:\n",
    "            return \"Quadrilateral with equal sides but not all angles equal\"\n",
    "        \n",
    "    elif A==B==C==D:  # All angles are equal\n",
    "        return \"Quadrilateral with equal angles but not all sides equal\"\n",
    "    \n",
    "    elif a==b  and c==d:  # Opposite sides are equal\n",
    "        if A==C and B==D:  # opposite angles are equal\n",
    "            if A==90:  # opposite angles are right angle\n",
    "                return \"Rectangle\"\n",
    "            else:\n",
    "                return \"Palallelogram\"\n",
    "        else:\n",
    "            return \"Quadrilateral with opposite sides equal but not opposite angles equal\"\n",
    "        \n",
    "    elif a==b==c or b==c==d or a==c==d or a==b==d:  # At least two sides are equal\n",
    "        \n",
    "        return \"Trapezoid\"\n",
    "    else:\n",
    "        return \"Quadrilateral with no specific classification\"\n",
    "    \n",
    "# Input : lengths of sides and measures of angles\n",
    "\n",
    "a=float(input('enter the length of side a:'))\n",
    "b=float(input('enter the length of side b:'))\n",
    "c=float(input('enter the length of side c:'))\n",
    "d=float(input('enter the length of side d:'))\n",
    "\n",
    "A=float(input('enter the measure of angle A in degrees:'))\n",
    "B=float(input('enter the measure of angle B in degrees:'))\n",
    "C=float(input('enter the measure of angle C in degrees:'))\n",
    "D=float(input('enter the measure of angle D in degree:'))\n",
    "\n",
    "# Determine and display the type of quadrilateral\n",
    "\n",
    "quadrilateral_type=determine_quadrilateral_type(a,b,c,d,A,B,C,D)\n",
    "print(f\"This is a {quadrilateral_type}.\")    "
   ]
  },
  {
   "cell_type": "markdown",
   "id": "b13162ee-79ce-494a-9c17-8371ced1c444",
   "metadata": {},
   "source": [
    "29. Write a Python script to determine the season based on a user-provided month using elif statements."
   ]
  },
  {
   "cell_type": "code",
   "execution_count": 13,
   "id": "5c7dc695-e509-4440-8198-29956e23355d",
   "metadata": {},
   "outputs": [
    {
     "name": "stdin",
     "output_type": "stream",
     "text": [
      "enter a month (1-12): 8\n"
     ]
    },
    {
     "name": "stdout",
     "output_type": "stream",
     "text": [
      "The season for month 8 is Summer.\n"
     ]
    }
   ],
   "source": [
    "# Month input\n",
    "\n",
    "month=int(input('enter a month (1-12):'))\n",
    "\n",
    "# check month and determine the season\n",
    "if month in [3,4,5]:\n",
    "    season='Spring'\n",
    "elif month in [6,7,8]:\n",
    "    season='Summer'\n",
    "elif month in [9,10,11]:\n",
    "    season='Autumn (Fall)'\n",
    "elif month in [12,1,2]:\n",
    "    season='Winter'\n",
    "else:\n",
    "    season='Invalid month'\n",
    "    \n",
    "# display the result\n",
    "if season!= 'Invalid month':\n",
    "    print(f\"The season for month {month} is {season}.\")\n",
    "else:\n",
    "    print(\"Invalid input. Please enter a valid month (1-12).\")"
   ]
  },
  {
   "cell_type": "markdown",
   "id": "79410644-19bf-49ba-b2dc-6fc3e2dde1fb",
   "metadata": {},
   "source": [
    "30. Implement a program to determine the type of year (leap or common) and month (30 or 31) using elif statements."
   ]
  },
  {
   "cell_type": "code",
   "execution_count": 15,
   "id": "3fb3a6e2-0749-4585-b20a-79206bac364e",
   "metadata": {},
   "outputs": [
    {
     "name": "stdin",
     "output_type": "stream",
     "text": [
      "enter a year: 2\n",
      "enter a month (1-12): 2\n"
     ]
    },
    {
     "name": "stdout",
     "output_type": "stream",
     "text": [
      "2 is a common year.\n",
      "The month 2 has 28 days.\n"
     ]
    }
   ],
   "source": [
    "# take user input for year and month\n",
    "\n",
    "year=int(input('enter a year:'))\n",
    "month=int(input('enter a month (1-12):'))\n",
    "\n",
    "# Determine if it's a leap year\n",
    "is_leap_year=(year%4==0 and year%100!=0) or (year%400==0)\n",
    "\n",
    "# determine the number of days in the month\n",
    "\n",
    "if month<1 or month>12:\n",
    "    days_in_month=\"Invalid month\"\n",
    "elif month in [4,6,9,11]:\n",
    "    days_in_month=30\n",
    "elif month==2:\n",
    "    days_in_month= 29 if is_leap_year else 28\n",
    "else:\n",
    "    days_in_month=31\n",
    "    \n",
    "# display the results\n",
    "\n",
    "if is_leap_year:\n",
    "    print(f\" {year} is a leap year.\")\n",
    "else:\n",
    "    print(f\"{year} is a common year.\")\n",
    "if days_in_month=='Invalid month':\n",
    "    print(\"Invalid month inpuut. Please enter a valid month (1-12).\")\n",
    "else:\n",
    "    print(f\"The month {month} has {days_in_month} days.\")"
   ]
  },
  {
   "cell_type": "markdown",
   "id": "a2ce7328-43cb-4ea5-94c8-9c50d09bd39b",
   "metadata": {},
   "source": [
    "Basic Level"
   ]
  },
  {
   "cell_type": "markdown",
   "id": "c11bf490-07d7-4aaf-a761-96659f3736e5",
   "metadata": {},
   "source": [
    "31. Write a Python program that checks if a given number is positive, negative or zero."
   ]
  },
  {
   "cell_type": "code",
   "execution_count": 30,
   "id": "11f27c98-5fa5-4d2e-a815-2f2edc5fcc4a",
   "metadata": {},
   "outputs": [
    {
     "name": "stdin",
     "output_type": "stream",
     "text": [
      "enter a number 8\n"
     ]
    },
    {
     "name": "stdout",
     "output_type": "stream",
     "text": [
      "The number is positive.\n"
     ]
    }
   ],
   "source": [
    "# user input \n",
    "num=float(input('enter a number'))\n",
    "\n",
    "# Check number is positive, negative, or zero\n",
    "\n",
    "if num==0:\n",
    "    print('The number is zero.')\n",
    "elif num>0:\n",
    "    print('The number is positive.')\n",
    "else:\n",
    "    print('The number is negative.')"
   ]
  },
  {
   "cell_type": "markdown",
   "id": "1b25fe0a-5774-4bfc-b0da-e7e4c5542b26",
   "metadata": {},
   "source": [
    "32. Create a program to determine if a person is eligible to vote based on their age."
   ]
  },
  {
   "cell_type": "code",
   "execution_count": 33,
   "id": "b17a6a36-8b9b-4f75-b10f-8d57a76b959c",
   "metadata": {},
   "outputs": [
    {
     "name": "stdin",
     "output_type": "stream",
     "text": [
      "enter your age: 18\n"
     ]
    },
    {
     "name": "stdout",
     "output_type": "stream",
     "text": [
      "You are eligible to vote.\n"
     ]
    }
   ],
   "source": [
    "# input\n",
    "age=int(input('enter your age:'))\n",
    "\n",
    "if age<=0:\n",
    "    print('Invalid age')\n",
    "elif age<18:\n",
    "    print('You are not eligible to vote.')\n",
    "else:\n",
    "    print('You are eligible to vote.')"
   ]
  },
  {
   "cell_type": "markdown",
   "id": "aa0d6707-e73b-48f8-9ad2-ed74bf43de90",
   "metadata": {},
   "source": [
    "33. Write a program to find the maximum of two numbers using conditional statements."
   ]
  },
  {
   "cell_type": "code",
   "execution_count": 36,
   "id": "4e2b4393-abb5-480a-b8dd-e2d9989bcce3",
   "metadata": {},
   "outputs": [
    {
     "name": "stdin",
     "output_type": "stream",
     "text": [
      "enter a 1st number: 9\n",
      "enter a 2nd number: 0\n"
     ]
    },
    {
     "name": "stdout",
     "output_type": "stream",
     "text": [
      "9.0 is greater than 0.0\n"
     ]
    }
   ],
   "source": [
    "num1=float(input('enter a 1st number:'))\n",
    "num2=float(input('enter a 2nd number:'))\n",
    "\n",
    "if num1>num2:\n",
    "    print(f\"{num1} is greater than {num2}\")\n",
    "else:\n",
    "    print(f\"{num2} is greater than {num1}\")"
   ]
  },
  {
   "cell_type": "markdown",
   "id": "4f38116f-15fc-4a4e-827e-396e819f0293",
   "metadata": {},
   "source": [
    "34. Develop a program that calculates the grade of a student based on their exam score."
   ]
  },
  {
   "cell_type": "code",
   "execution_count": 42,
   "id": "7c65f1b9-d4e6-4b00-913a-c0ffd207f60b",
   "metadata": {},
   "outputs": [
    {
     "name": "stdin",
     "output_type": "stream",
     "text": [
      "enter a score out of 100: 80\n"
     ]
    },
    {
     "name": "stdout",
     "output_type": "stream",
     "text": [
      "The student grade is B.\n"
     ]
    }
   ],
   "source": [
    "# Score input\n",
    "\n",
    "score=float(input('enter a score out of 100:'))\n",
    "\n",
    "if score>=90:\n",
    "    grade=\"A\"\n",
    "elif score>=80:\n",
    "    grade=\"B\"\n",
    "elif score>=70:\n",
    "    grade=\"C\"\n",
    "elif score>=60:\n",
    "    grade=\"D\"\n",
    "else:\n",
    "    grade=\"E\"\n",
    "\n",
    "# Print result\n",
    "print(f\"The student grade is {grade}.\")"
   ]
  },
  {
   "cell_type": "markdown",
   "id": "f85f818b-a812-4489-9deb-d292e76ac495",
   "metadata": {},
   "source": [
    "35. Create a program that checks if a year is leap year or not."
   ]
  },
  {
   "cell_type": "code",
   "execution_count": 45,
   "id": "ddcaade9-56e4-4e6b-8f80-6bfd9c1c978e",
   "metadata": {},
   "outputs": [
    {
     "name": "stdin",
     "output_type": "stream",
     "text": [
      "enter a year: 2020\n"
     ]
    },
    {
     "name": "stdout",
     "output_type": "stream",
     "text": [
      "The 2020 is leap year.\n"
     ]
    }
   ],
   "source": [
    "# input year\n",
    "\n",
    "year=int(input('enter a year:'))\n",
    "\n",
    "is_leap_year=(year%4==0 and year%100!=0) or year%400==0\n",
    "\n",
    "if is_leap_year:\n",
    "    print(f\"The {year} is leap year.\")\n",
    "else:\n",
    "    print(f\"The {year} is not leap year.\")"
   ]
  },
  {
   "cell_type": "markdown",
   "id": "b8605d3b-f66d-483c-a136-faf3c87ab771",
   "metadata": {},
   "source": [
    "36. Write a program to classify a triangle based on its side's lengths."
   ]
  },
  {
   "cell_type": "code",
   "execution_count": 3,
   "id": "c79b219d-1499-4fc3-8ffe-74967750fc09",
   "metadata": {},
   "outputs": [
    {
     "name": "stdin",
     "output_type": "stream",
     "text": [
      "enter side l: 21\n",
      "enter side 2: 32\n",
      "enter side 3: 43\n"
     ]
    },
    {
     "name": "stdout",
     "output_type": "stream",
     "text": [
      "Its a scalene triangle\n"
     ]
    }
   ],
   "source": [
    "# user input\n",
    "side1=float(input('enter side l:'))\n",
    "side2=float(input('enter side 2:'))\n",
    "side3=float(input('enter side 3:'))\n",
    "\n",
    "# check if it is valid triangle or not\n",
    "\n",
    "if side1 + side2 <= side3 or side1+side3<=side2 or side2+side3<=side1:\n",
    "    is_valid_triangle=False\n",
    "else:\n",
    "    is_valid_triangle=True\n",
    "    \n",
    "if is_valid_triangle:\n",
    "    if side1==side2==side3:\n",
    "        print('The triangle is equilateral')\n",
    "    elif side1==side2 or side1==side3 or side2==side3:\n",
    "        print('The triangle is isosceles.')\n",
    "    else:\n",
    "        print('Its a scalene triangle')\n",
    "else:\n",
    "    print('Not valid triangle.')"
   ]
  },
  {
   "cell_type": "markdown",
   "id": "edfaa09a-cf5f-4099-aa90-9b9a8fd06911",
   "metadata": {},
   "source": [
    "37. Build a program that determines the largest of three given numbers."
   ]
  },
  {
   "cell_type": "code",
   "execution_count": 6,
   "id": "9f6f77b3-766e-4ad2-a6b3-fbda55daf53f",
   "metadata": {},
   "outputs": [
    {
     "name": "stdin",
     "output_type": "stream",
     "text": [
      "enter 1st number: 9\n",
      "enter 2nd number: 8\n",
      "enter 3rd number: 7\n"
     ]
    },
    {
     "name": "stdout",
     "output_type": "stream",
     "text": [
      "The larger number is: {9.0}\n"
     ]
    }
   ],
   "source": [
    "# input list of three number\n",
    "\n",
    "num1=float(input('enter 1st number:'))\n",
    "num2=float(input('enter 2nd number:'))\n",
    "num3=float(input('enter 3rd number:'))\n",
    "\n",
    "# check comparison\n",
    "\n",
    "if num3< num1>num2:\n",
    "    larger=num1\n",
    "elif num1<num2>num3:\n",
    "    larger=num2\n",
    "else:\n",
    "    larger=num3\n",
    "    \n",
    "print('The larger number is:',{larger})"
   ]
  },
  {
   "cell_type": "markdown",
   "id": "9661a510-f73b-4fb8-a777-ad502941813d",
   "metadata": {},
   "source": [
    "38. Develop a program that checks whether a character is a vowel or consonant."
   ]
  },
  {
   "cell_type": "code",
   "execution_count": 26,
   "id": "e1e3ba9a-a58b-4852-b951-7a5142815e04",
   "metadata": {},
   "outputs": [
    {
     "name": "stdin",
     "output_type": "stream",
     "text": [
      "enter a alphabet character: j\n"
     ]
    },
    {
     "name": "stdout",
     "output_type": "stream",
     "text": [
      "The character is: Consonant\n"
     ]
    }
   ],
   "source": [
    "def check_char(input_char):\n",
    "    vowels=\"aeiou\"\n",
    "    consonant=\"bcdfghjklmnpqrstvwxyz\"\n",
    "    char=\"\"\n",
    "    if input_char in vowels:\n",
    "        char=\"Vowel\"\n",
    "        \n",
    "    elif input_char in consonant:\n",
    "        char=\"Consonant\"\n",
    "    else:\n",
    "        char=\"Please enter a single alphabet character.\"\n",
    "    return char\n",
    "\n",
    "\n",
    "input_char=input('enter a alphabet character:')\n",
    "\n",
    "result=check_char(input_char)\n",
    "print('The character is:',result)"
   ]
  },
  {
   "cell_type": "markdown",
   "id": "486e3b22-3be9-49f0-a09b-48e96bbb7d25",
   "metadata": {},
   "source": [
    "39. Create a program to calculate the total cost of a shopping cart based on discounts."
   ]
  },
  {
   "cell_type": "code",
   "execution_count": 27,
   "id": "7e07ee81-a67b-4510-876f-e5217fd92acf",
   "metadata": {},
   "outputs": [
    {
     "name": "stdout",
     "output_type": "stream",
     "text": [
      "Total cost of the shopping cart: 50.00\n"
     ]
    }
   ],
   "source": [
    "# Define the items in the shopping cart (name,price, quantity)\n",
    "\n",
    "shopping_cart=[\n",
    "    {'name': 'Item1','price':10,'quantity':2},\n",
    "    {'name':'Item2','price':5,'quantity':3},\n",
    "    {'name':'Item3','price':20,'quantity':1},]\n",
    "\n",
    "# Define discount rules (item name, quantity for discount, discount percentage)\n",
    "\n",
    "discount_rules=[\n",
    "    {'name':'Item1','quantity_for_discount':2,'discount_percentage':10},\n",
    "    {'name':'Item2','quantity_for_discount':3,'discount_percentage':20},]\n",
    "\n",
    "# function to calculate the total cost of an item with discount applied\n",
    "\n",
    "def calculate_item_cost(item,discount_rules):\n",
    "    \n",
    "    item_name=item['name']\n",
    "    item_price=item['price']\n",
    "    item_quantity=item['quantity']\n",
    "    discount_percentage=0\n",
    "    \n",
    "    for rule in discount_rules:\n",
    "        if rule['name']==item_name and item_quantity>=rule['quantity_for_discount']:\n",
    "            discount_percentage=rule['discount_percentage']\n",
    "            \n",
    "            break\n",
    "            \n",
    "    discounted_price=item_price*(1-discount_percentage/100)\n",
    "    return discounted_price*item_quantity\n",
    "\n",
    "\n",
    "# Calculate the total cost of the shopping cart\n",
    "\n",
    "total_cost=sum(calculate_item_cost(item,discount_rules) for item in shopping_cart)\n",
    "\n",
    "# print the total cost\n",
    "print(f\"Total cost of the shopping cart: {total_cost:.2f}\")"
   ]
  },
  {
   "cell_type": "markdown",
   "id": "a513f191-697a-47d1-a263-7646229f2411",
   "metadata": {},
   "source": [
    "40. Write a program that checks if a given number is even or odd."
   ]
  },
  {
   "cell_type": "code",
   "execution_count": 39,
   "id": "51eb01be-0b3b-467e-bf60-21922173d2e6",
   "metadata": {},
   "outputs": [
    {
     "name": "stdin",
     "output_type": "stream",
     "text": [
      "enter a number: 8\n"
     ]
    },
    {
     "name": "stdout",
     "output_type": "stream",
     "text": [
      "The number is even.\n"
     ]
    }
   ],
   "source": [
    "# take input\n",
    "try:\n",
    "    \n",
    "    num=float(input('enter a number:'))\n",
    "\n",
    "    if num%2==0:\n",
    "        print('The number is even.')\n",
    "    elif num%2!=0:\n",
    "        print('The number is odd.')\n",
    "    else:\n",
    "        print('Please enter numerice value.')\n",
    "except Exception  as e:\n",
    "    print(e)"
   ]
  },
  {
   "cell_type": "markdown",
   "id": "40bb3993-f25c-49da-8d3b-616983b0b3db",
   "metadata": {},
   "source": [
    "Intermediae Level:"
   ]
  },
  {
   "cell_type": "markdown",
   "id": "29e2c128-08c0-4354-baef-ad373b0f7fed",
   "metadata": {},
   "source": [
    "41. Write a program that calculates the roots of a quadratic equation."
   ]
  },
  {
   "cell_type": "code",
   "execution_count": 45,
   "id": "172119b8-cf73-45a9-836d-6ef4de44562b",
   "metadata": {},
   "outputs": [
    {
     "name": "stdin",
     "output_type": "stream",
     "text": [
      "enter coefficient a: 1\n",
      "enter coefficient b: 3\n",
      "enter coefficient c: 4\n"
     ]
    },
    {
     "name": "stdout",
     "output_type": "stream",
     "text": [
      "Root 1: -1.5 + 1.3228756555322954i\n",
      "Root 2: -1.5 - 1.3228756555322954i\n"
     ]
    }
   ],
   "source": [
    "import math\n",
    "\n",
    "# Input coefficients a, b, and c\n",
    "\n",
    "a=float(input('enter coefficient a:'))\n",
    "b=float(input('enter coefficient b:'))\n",
    "c=float(input('enter coefficient c:'))\n",
    "\n",
    "# Calculate the discriminant\n",
    "discriminant=b**2 - 4*a*c\n",
    "\n",
    "# Check if the discriminant is positive, negative, or zero\n",
    "\n",
    "if discriminant>0:\n",
    "    # Two real and distinct roots\n",
    "    root1=(-b+ math.sqrt(discriminant))/(2*a)\n",
    "    root2=(-b- math.sqrt(discriminant))/(2*a)\n",
    "    \n",
    "    print(f\"Root 1: {root1}\")\n",
    "    print(f\"Root 2: {root2}\")\n",
    "    \n",
    "elif discriminant==0:\n",
    "    # One real root (repeated)\n",
    "    root=-b/(2*a)\n",
    "    print(f\"Root: {root}\")\n",
    "    \n",
    "else:\n",
    "    # Complex roots\n",
    "    real_part=-b/(2*a)\n",
    "    imaginary_part=math.sqrt(abs(discriminant))/(2*a)\n",
    "    print(f\"Root 1: {real_part} + {imaginary_part}i\")\n",
    "    print(f\"Root 2: {real_part} - {imaginary_part}i\")"
   ]
  },
  {
   "cell_type": "markdown",
   "id": "003b6aaa-b767-4bdd-9f47-c1fdc3c3b8af",
   "metadata": {},
   "source": [
    "42. Create a program that determines the day of the week based on the day number (1-7)."
   ]
  },
  {
   "cell_type": "code",
   "execution_count": 50,
   "id": "ac05449c-966e-4074-8a4f-89f6a5139db3",
   "metadata": {},
   "outputs": [
    {
     "name": "stdin",
     "output_type": "stream",
     "text": [
      "enter number of day (1-7): 6\n"
     ]
    },
    {
     "name": "stdout",
     "output_type": "stream",
     "text": [
      "The day for number 6 is Saturday\n"
     ]
    }
   ],
   "source": [
    "# taking input \n",
    "\n",
    "number=int(input('enter number of day (1-7):'))\n",
    "\n",
    "day_list=['Sunday','Monday','Tuesday','Wednesday','Thursday','Friday','Saturday']\n",
    "\n",
    "if 1<=number<=7:\n",
    "    day_week=day_list[number-1]\n",
    "    print('The day of the week for day number',number,'is',day_week)\n",
    "else:\n",
    "    pri"
   ]
  },
  {
   "cell_type": "markdown",
   "id": "1c0a5302-804b-4003-bc3b-df3d939c9d7a",
   "metadata": {},
   "source": [
    "43. Develop a program that calculates the factorial of a given number using recursion."
   ]
  },
  {
   "cell_type": "code",
   "execution_count": 14,
   "id": "57f30256-f535-472e-8a2b-577a882b5512",
   "metadata": {},
   "outputs": [
    {
     "name": "stdin",
     "output_type": "stream",
     "text": [
      "enter a number to find factorial: 10\n"
     ]
    },
    {
     "name": "stdout",
     "output_type": "stream",
     "text": [
      "The factorial of number 10 : 3628800\n"
     ]
    }
   ],
   "source": [
    "def fact_num(n):\n",
    "    if n==0:    # Base condition\n",
    "        return 1\n",
    "    \n",
    "    else:\n",
    "        return n*fact_num(n-1)  \n",
    "    \n",
    "n=int(input('enter a number to find factorial:'))\n",
    "\n",
    "factorial = fact_num(n)\n",
    "print('The factorial of number',n, ':',factorial)"
   ]
  },
  {
   "cell_type": "markdown",
   "id": "9904784a-446d-4e92-97f8-ad6da748e8da",
   "metadata": {},
   "source": [
    "44. Write a program to find the largest among three numbers without using the max() function."
   ]
  },
  {
   "cell_type": "code",
   "execution_count": 16,
   "id": "79b20af3-d53d-47b5-a728-3d7598b26b2d",
   "metadata": {},
   "outputs": [
    {
     "name": "stdin",
     "output_type": "stream",
     "text": [
      "enter a 1st number: 88\n",
      "enter a 2nd number: 77\n",
      "enter a 3rd number: 60\n"
     ]
    },
    {
     "name": "stdout",
     "output_type": "stream",
     "text": [
      "The largest number among 88.0 77.0 60.0 is: 88.0\n"
     ]
    }
   ],
   "source": [
    "num1=float(input('enter a 1st number:'))\n",
    "num2=float(input('enter a 2nd number:'))\n",
    "num3=float(input('enter a 3rd number:'))\n",
    "\n",
    "\n",
    " # check largest number\n",
    "\n",
    "if num2<num1>num3:\n",
    "    largest=num1\n",
    "elif num1<num2>num3:\n",
    "    largest=num2\n",
    "else:\n",
    "    largest=num3\n",
    "    \n",
    "    \n",
    "print('The largest number among',num1,num2,num3,'is:',largest)"
   ]
  },
  {
   "cell_type": "markdown",
   "id": "8123026a-61bd-4405-b460-0ff027423c7b",
   "metadata": {},
   "source": [
    "45. Create a program that simulates a basic ATM transaction menu."
   ]
  },
  {
   "cell_type": "code",
   "execution_count": null,
   "id": "bb67ee7b-727b-4718-a6b8-af1b44dc2156",
   "metadata": {},
   "outputs": [
    {
     "name": "stdout",
     "output_type": "stream",
     "text": [
      "Welcome to the ATM\n",
      "1. Check Balance\n",
      "2. Deposit Funds\n",
      "3. Withdraw Funds\n",
      "4. Exit\n"
     ]
    },
    {
     "name": "stdin",
     "output_type": "stream",
     "text": [
      "enter your choice (1/2/3/4): 1\n"
     ]
    },
    {
     "name": "stdout",
     "output_type": "stream",
     "text": [
      "Your balance is 10000\n",
      "Welcome to the ATM\n",
      "1. Check Balance\n",
      "2. Deposit Funds\n",
      "3. Withdraw Funds\n",
      "4. Exit\n"
     ]
    },
    {
     "name": "stdin",
     "output_type": "stream",
     "text": [
      "enter your choice (1/2/3/4): 2\n",
      "enter amount to deposit: 500\n"
     ]
    },
    {
     "name": "stdout",
     "output_type": "stream",
     "text": [
      "500.0 has been deposited. Your new balance is 10500.0\n",
      "Welcome to the ATM\n",
      "1. Check Balance\n",
      "2. Deposit Funds\n",
      "3. Withdraw Funds\n",
      "4. Exit\n"
     ]
    },
    {
     "name": "stdin",
     "output_type": "stream",
     "text": [
      "enter your choice (1/2/3/4): 3\n",
      "enter amount to withdraw: 5000\n"
     ]
    },
    {
     "name": "stdout",
     "output_type": "stream",
     "text": [
      "5000.0 has been withdrawn. Your new balance is 5500.0\n",
      "Welcome to the ATM\n",
      "1. Check Balance\n",
      "2. Deposit Funds\n",
      "3. Withdraw Funds\n",
      "4. Exit\n"
     ]
    }
   ],
   "source": [
    "#### Initialize the account balance as global variable\n",
    "\n",
    "balance=10000\n",
    "\n",
    "# Function to display the main mainu\n",
    "def display_menu():\n",
    "    print('Welcome to the ATM')\n",
    "    print('1. Check Balance')\n",
    "    print('2. Deposit Funds')\n",
    "    print('3. Withdraw Funds')\n",
    "    print('4. Exit')\n",
    "\n",
    "# function to check balance\n",
    "\n",
    "def check_balance():\n",
    "    print(f\"Your balance is {balance}\")\n",
    "    \n",
    "# function to deposit funds\n",
    "\n",
    "def deposit_funds():\n",
    "    global balance\n",
    "    \n",
    "    amount=float(input('enter amount to deposit:'))\n",
    "    balance+=amount\n",
    "    print(f\"{amount} has been deposited. Your new balance is {balance}\")\n",
    "    \n",
    "# Function to withdraw funds\n",
    "def withdraw_funds():\n",
    "    global balance\n",
    "    amount=float(input('enter amount to withdraw:'))\n",
    "    if amount<=balance:\n",
    "        balance-=amount\n",
    "        print(f\"{amount} has been withdrawn. Your new balance is {balance}\")\n",
    "    else:\n",
    "        print('Insufficient funds')\n",
    "\n",
    "# Main program loop\n",
    "while True:\n",
    "    display_menu()\n",
    "    choice=int(input('enter your choice (1/2/3/4):'))\n",
    "    \n",
    "    if choice==1:\n",
    "        check_balance()\n",
    "    elif choice==2:\n",
    "        deposit_funds()\n",
    "    elif choice==3:\n",
    "        withdraw_funds()\n",
    "    elif choice==4:\n",
    "        print('Thank you for using the ATM. Goodbye!')\n",
    "        break\n",
    "    else:\n",
    "        print('Invalid choice. Please try again.')"
   ]
  },
  {
   "cell_type": "markdown",
   "id": "f79edafb-e7d8-4eda-9936-844e1e185420",
   "metadata": {},
   "source": [
    "46. Build a program that checks if a given string is a palindrome or not."
   ]
  },
  {
   "cell_type": "code",
   "execution_count": 15,
   "id": "da29d76b-f98b-4336-a4e4-6c81546d38b2",
   "metadata": {},
   "outputs": [
    {
     "name": "stdin",
     "output_type": "stream",
     "text": [
      "enter a string: Madam\n"
     ]
    },
    {
     "name": "stdout",
     "output_type": "stream",
     "text": [
      "The string is palindrome.\n"
     ]
    }
   ],
   "source": [
    "# Taking input from se\n",
    "\n",
    "string=input('enter a string:').lower()\n",
    "\n",
    "# check if it is palindrome or not\n",
    "\n",
    "if string==string[::-1]:\n",
    "    print(f\"The string is palindrome.\")\n",
    "else:\n",
    "    print('The string is not palindrome.')"
   ]
  },
  {
   "cell_type": "markdown",
   "id": "b8cbd354-5d16-4ad4-95ec-c74bcc710faf",
   "metadata": {},
   "source": [
    "47. Write a program that calculates the average of a list of numbers, excluding the smallest and largest values."
   ]
  },
  {
   "cell_type": "code",
   "execution_count": 20,
   "id": "5785721f-d204-48fe-8afb-4771a43ad988",
   "metadata": {},
   "outputs": [
    {
     "name": "stdout",
     "output_type": "stream",
     "text": [
      "The average of the list of numbers excluding smallest and largest value is: 5.5\n"
     ]
    }
   ],
   "source": [
    "def calculate_average(lst):\n",
    "    # Initialize variable to store the sum of list and average\n",
    "    sum_lst=0\n",
    "    average=0\n",
    "    for i in lst:\n",
    "        if i==max(lst):\n",
    "            sum_lst+=0\n",
    "        elif i==min(lst):\n",
    "            sum_lst+=0\n",
    "        else:\n",
    "            sum_lst+=i\n",
    "            average=sum_lst/(len(lst)-2)\n",
    "    return average\n",
    "\n",
    "lst=[1,2,3,4,5,6,7,8,9,10]\n",
    "\n",
    "result=calculate_average(lst)\n",
    "print(f\"The average of the list of numbers excluding smallest and largest value is: {result}\")"
   ]
  },
  {
   "cell_type": "markdown",
   "id": "54708d34-1253-4add-85ed-a86131760d58",
   "metadata": {},
   "source": [
    "48. Develop a program that converts a given temperature from Celsius to Fahrenheit."
   ]
  },
  {
   "cell_type": "code",
   "execution_count": 28,
   "id": "8c0260ce-41c2-48a0-8aeb-574a2bb2caa3",
   "metadata": {},
   "outputs": [
    {
     "name": "stdin",
     "output_type": "stream",
     "text": [
      "enter temperature in celsius: 37\n"
     ]
    },
    {
     "name": "stdout",
     "output_type": "stream",
     "text": [
      "37.0 C is equal to 98.6 F\n"
     ]
    }
   ],
   "source": [
    "# Function to convert celsius to fahrenheit\n",
    "\n",
    "def celsius_to_fahrenheit(celsius):\n",
    "    fahrenheit=(celsius*9/5)+32\n",
    "    return fahrenheit\n",
    "\n",
    "# Input from user\n",
    "\n",
    "celsius=float(input('enter temperature in celsius:'))\n",
    "\n",
    "# Call the conversion function\n",
    "fahrenheit=celsius_to_fahrenheit(celsius)\n",
    "\n",
    "# Display the result\n",
    "print(f\"{celsius} C is equal to {fahrenheit} F\")"
   ]
  },
  {
   "cell_type": "markdown",
   "id": "dac6ef1b-decc-422c-a6d6-43479aac85f8",
   "metadata": {},
   "source": [
    "49. Create a program that simulates a basic calculator for addition, subtraction, multiplication, and division."
   ]
  },
  {
   "cell_type": "code",
   "execution_count": 19,
   "id": "5b5894f2-4601-48cf-8f31-5cd3408afa2f",
   "metadata": {},
   "outputs": [
    {
     "name": "stdin",
     "output_type": "stream",
     "text": [
      "enter an operation (+,-,*,/): *\n",
      "enter numbers separated by spaces: 1 2 3 4 5 6 7 8 9 10\n"
     ]
    },
    {
     "name": "stdout",
     "output_type": "stream",
     "text": [
      "Result: 3628800.0\n"
     ]
    }
   ],
   "source": [
    "# Function to perform addition\n",
    "\n",
    "def add(*args):\n",
    "    return sum(args)\n",
    "\n",
    "# function to perform subtraction\n",
    "def subtract(*args):\n",
    "    result=args[0]\n",
    "    for num in args[1:]:\n",
    "        result-=num\n",
    "    return result\n",
    "\n",
    "# Function to perform multiplication\n",
    "\n",
    "def multiply(*args):\n",
    "    result=1\n",
    "    for num in args:\n",
    "        result*=num\n",
    "    return result\n",
    "# function to perform division\n",
    "def division(*args):\n",
    "    if 0 in args[1:]:\n",
    "        return \"Cannot divide by zero\"\n",
    "    result=args[0]\n",
    "    for num in args[1:]:\n",
    "        result/=num\n",
    "    return result\n",
    "\n",
    "# Input from the user\n",
    "operation=input('enter an operation (+,-,*,/):')\n",
    "numbers=list(map(float,input('enter numbers separated by spaces:').split()))\n",
    "\n",
    "if operation=='+':\n",
    "    result=add(*numbers)\n",
    "elif operation=='-':\n",
    "    result=subtract(*numbers)\n",
    "elif operation=='*':\n",
    "    result=multiply(*numbers)\n",
    "elif operation=='/':\n",
    "    result=division(*numbers)\n",
    "else:\n",
    "    result='Invalid operation. Please enter +,-,*, or /.'\n",
    "    \n",
    "print(f\"Result: {result}\")"
   ]
  },
  {
   "cell_type": "markdown",
   "id": "4ea94eda-9914-458d-beab-139c9e7f1e11",
   "metadata": {},
   "source": [
    "50. Write a program that determine the roots of a cubic equation using the Cardano formula."
   ]
  },
  {
   "cell_type": "code",
   "execution_count": 1,
   "id": "25aabae5-c30c-4063-80f5-81a94f11cce7",
   "metadata": {},
   "outputs": [
    {
     "name": "stdin",
     "output_type": "stream",
     "text": [
      "enter coefficient a: 4\n",
      "enter coefficient b: 5\n",
      "enter coefficient c: 6\n",
      "enter coefficient d: 2\n"
     ]
    },
    {
     "name": "stdout",
     "output_type": "stream",
     "text": [
      "The roots of the cubic equation are:\n",
      "Root: (0.4354009902856329+0.5035383138720052j)\n",
      "Root: (-0.608326572351046-0.6878461285279414j)\n",
      "Root: (-1.077074417934587+0.1843078146559361j)\n"
     ]
    }
   ],
   "source": [
    "import math\n",
    "\n",
    "# Function to find the roots of a cubic equation using the Cardano formula\n",
    "\n",
    "def find_cubic_roots(a,b,c,d):\n",
    "    # Calculate p and q as per Cardano's formula\n",
    "    \n",
    "    p=(3*a*c-b**2)/(3*a**2)\n",
    "    q=(2*b**3-9*a*b*c+27*a**2*d)/(27*a**3)\n",
    "    \n",
    "    # Calculate the discriminant\n",
    "    discriminant=(q/2)**2 + (p/3)**3\n",
    "    \n",
    "    if discriminant>0:\n",
    "        # Three real roots\n",
    "        u=(-q/2+math.sqrt(discriminant))**(1/3)\n",
    "        v=(-q/2-math.sqrt(discriminant))**(1/3)\n",
    "        \n",
    "        real_root=-b/(3*a)\n",
    "        root1=u+v+real_root\n",
    "        root2=-(u+v)/2+real_root +(u-v)*math.sqrt(3)/2\n",
    "        root3=-(u+v)/2+real_root-(u-v)*math.sqrt(3)/2\n",
    "        \n",
    "    elif discriminant==0:\n",
    "        # Three real roots (two are the same)\n",
    "        \n",
    "        if q>=0:\n",
    "            u=(q/2)**(1/3)\n",
    "            root1=-2*u-b/(3*a)\n",
    "            root2=u+b/(3*a)\n",
    "            root3=u+b/(3*a)\n",
    "        else:\n",
    "            u=(-q/2)**(1/3)\n",
    "            root1=-2*u-b/(3*a)\n",
    "            root2=u+b/(3*a)\n",
    "            root3=u+b/(3*a)\n",
    "            \n",
    "    else:\n",
    "        # One real root and two complex roots\n",
    "        \n",
    "        rho=math.sqrt((q/2)**2-(p/3)**3)\n",
    "        theta=math.atan2(math.sqrt(-discriminant),-q/2)/3\n",
    "        r=2*math.sqrt(-p/3)\n",
    "        \n",
    "        root1=r*math.cos(theta)-b/(3*a)\n",
    "        root2=r*math.cos(theta+2*math.pi/3)-b/(3*a)\n",
    "        root3=r*math.cos(theta+4*math.pi/3)-b/(3*a)\n",
    "        \n",
    "    return root1, root2, root3\n",
    "\n",
    "# Input coefficients for the cubic equation\n",
    "\n",
    "a=float(input('enter coefficient a:'))\n",
    "b=float(input('enter coefficient b:'))\n",
    "c=float(input('enter coefficient c:'))\n",
    "d=float(input('enter coefficient d:'))\n",
    "\n",
    "# Find the display the roots of cubic equation\n",
    "\n",
    "roots=find_cubic_roots(a,b,c,d)\n",
    "\n",
    "print('The roots of the cubic equation are:')\n",
    "for root in roots:\n",
    "    print(f\"Root: {root}\")"
   ]
  },
  {
   "cell_type": "markdown",
   "id": "21002ed4-729f-4714-9882-22c2f233dee4",
   "metadata": {},
   "source": [
    "Advanced Level:"
   ]
  },
  {
   "cell_type": "markdown",
   "id": "ede6b867-9348-42dd-a101-6cd38debc50c",
   "metadata": {},
   "source": [
    "51. Create a program that calculates the income tax based on the user's income and tax brackets."
   ]
  },
  {
   "cell_type": "code",
   "execution_count": 4,
   "id": "2593d1b5-6f5a-406f-9b5d-64c5e0439c7d",
   "metadata": {},
   "outputs": [
    {
     "name": "stdin",
     "output_type": "stream",
     "text": [
      "enter your annual income: 1000000\n"
     ]
    },
    {
     "name": "stdout",
     "output_type": "stream",
     "text": [
      "Your income tax is: Rs268000.00\n"
     ]
    }
   ],
   "source": [
    "# Function to calculate income tax\n",
    "\n",
    "def calculate_income_tax(income, tax_brackets):\n",
    "    # Sort the tax brackets based on the income limit\n",
    "    \n",
    "    tax_brackets=sorted(tax_brackets,key=lambda x:x[0])\n",
    "    \n",
    "    total_tax=0\n",
    "    remaining_income=income\n",
    "    \n",
    "    for bracket in tax_brackets:\n",
    "        bracket_limit,tax_rate=bracket\n",
    "        if remaining_income<=0:\n",
    "            break\n",
    "        if remaining_income<=bracket_limit:\n",
    "            total_tax+=remaining_income*tax_rate\n",
    "            break\n",
    "            \n",
    "        else:\n",
    "            total_tax+=bracket_limit*tax_rate\n",
    "            remaining_income-=bracket_limit\n",
    "            \n",
    "    return total_tax\n",
    "\n",
    "# Define tax brackets and tax rates\n",
    "# Format: (income_limit,tax_rate)\n",
    "\n",
    "tax_brackets=[(10000,0.10),\n",
    "              (300000,0.20),\n",
    "              (1000000,0.30),\n",
    "              (float('inf'),0.40),  # The last bracket has no income limit\n",
    "             ]\n",
    "\n",
    "# input from the user\n",
    "income=float(input('enter your annual income:'))\n",
    "\n",
    "# Calculate and display the income tax\n",
    "\n",
    "income_tax=calculate_income_tax(income, tax_brackets)\n",
    "print(f\"Your income tax is: Rs{income_tax:.2f}\")"
   ]
  },
  {
   "cell_type": "markdown",
   "id": "f8ab3ed2-6085-4ad2-9813-e4aca7f3c578",
   "metadata": {},
   "source": [
    "52. Write a program that simulates a rock-paper-scissors game against the computer."
   ]
  },
  {
   "cell_type": "code",
   "execution_count": 16,
   "id": "efbb629f-a2e7-4175-b488-b4b7765ef923",
   "metadata": {},
   "outputs": [
    {
     "name": "stdin",
     "output_type": "stream",
     "text": [
      "Choose rock, paper, or scissors: rock\n"
     ]
    },
    {
     "name": "stdout",
     "output_type": "stream",
     "text": [
      "Your choice: rock\n",
      "Computer's choice: paper\n",
      "Computer win! paper beats rock.\n"
     ]
    },
    {
     "name": "stdin",
     "output_type": "stream",
     "text": [
      "Play again? (yes/no): yes\n",
      "Choose rock, paper, or scissors: paper\n"
     ]
    },
    {
     "name": "stdout",
     "output_type": "stream",
     "text": [
      "Your choice: paper\n",
      "Computer's choice: paper\n",
      "it's a tie!\n"
     ]
    },
    {
     "name": "stdin",
     "output_type": "stream",
     "text": [
      "Play again? (yes/no): no\n"
     ]
    }
   ],
   "source": [
    "import random\n",
    "\n",
    "# Function to get the user's choice\n",
    "def get_user_choice():\n",
    "    while True:\n",
    "        user_choice=input('Choose rock, paper, or scissors:').lower()\n",
    "        if user_choice in ['rock','paper','scissors']:\n",
    "            return user_choice\n",
    "        else:\n",
    "            print('Invalid choice. Please choose rock, paper, or scissors.')\n",
    "\n",
    "# Function to get the computer's choice\n",
    "\n",
    "def get_computer_choice():\n",
    "    return random.choice(['rock','paper','scissors'])\n",
    "\n",
    "# Function to determine the winner\n",
    "def determine_winner(user_choice, computer_choice):\n",
    "    if user_choice==computer_choice:\n",
    "        return \"it's a tie!\"\n",
    "    \n",
    "    if ((user_choice=='rock' and computer_choice=='scissors')or\n",
    "        (user_choice=='paper' and computer_choice=='rock')or\n",
    "        (user_choice=='scissors' and computer_choice=='paper')):\n",
    "        \n",
    "        return f\"You win! {user_choice} beats {computer_choice}.\"\n",
    "    return f\"Computer win! {computer_choice} beats {user_choice}.\"\n",
    "\n",
    "# Main game loop\n",
    "\n",
    "while True:\n",
    "    user_choice=get_user_choice()\n",
    "    computer_choice=get_computer_choice()\n",
    "    \n",
    "    print(f\"Your choice: {user_choice}\")\n",
    "    print(f\"Computer's choice: {computer_choice}\")\n",
    "    \n",
    "    result = determine_winner(user_choice,computer_choice)\n",
    "    print(result)\n",
    "    \n",
    "    play_again=input(\"Play again? (yes/no):\").lower()\n",
    "    if play_again!='yes':\n",
    "        break"
   ]
  },
  {
   "cell_type": "markdown",
   "id": "8fd1db65-58ef-4529-962e-94a0c2a68216",
   "metadata": {},
   "source": [
    "53. Develop a program that generates a random password based on user preferences (length, complexity)."
   ]
  },
  {
   "cell_type": "code",
   "execution_count": 25,
   "id": "aef9d6f4-12ec-41bc-8cc9-ffcfb31d0f8e",
   "metadata": {},
   "outputs": [
    {
     "name": "stdin",
     "output_type": "stream",
     "text": [
      "enter the desired password length: 10\n",
      "Include uppercase letters? (yes/no):  yes\n",
      "Include digits? (yes/no): yes\n",
      "Include special characters? (yes/no): yes\n"
     ]
    },
    {
     "name": "stdout",
     "output_type": "stream",
     "text": [
      "Generated password: 4SqQA3inXb\n"
     ]
    }
   ],
   "source": [
    "import random\n",
    "import string\n",
    "\n",
    "# Function to generate a random password\n",
    "def generate_password(length, use_uppercase, use_digits, use_special_chars):\n",
    "    characters=string.ascii_lowercase  # always include lowercase characters\n",
    "    \n",
    "    if use_uppercase:\n",
    "        characters+=string.ascii_uppercase\n",
    "    if use_digits:\n",
    "        characters+=string.digits\n",
    "    if use_special_chars:\n",
    "        characters+=string.punctuation\n",
    "        \n",
    "    if len(characters)==0:\n",
    "        print(\"You must include at least one character type (uppercase, digits, or special characters).\")\n",
    "        return None\n",
    "    \n",
    "    password=''.join(random.choice(characters) for _ in range(length))\n",
    "    return password\n",
    "\n",
    "# Input preferences from the user\n",
    "\n",
    "length=int(input('enter the desired password length:'))\n",
    "use_uppercase=input('Include uppercase letters? (yes/no): ').lower()=='yes'\n",
    "use_digits=input('Include digits? (yes/no):').lower()=='yes'\n",
    "use_special_chars=input('Include special characters? (yes/no):').lower=='yes'\n",
    "\n",
    "               \n",
    "# Generate and display the password\n",
    "\n",
    "password=generate_password(length, use_uppercase,use_digits, use_special_chars)\n",
    "if password:\n",
    "               print(f\"Generated password: {password}\")"
   ]
  },
  {
   "cell_type": "markdown",
   "id": "adec775d-38a8-4bd6-9e4a-364dbcc5ab6b",
   "metadata": {},
   "source": [
    "54. Create a program that implements a simple text-based adventure game with branching scenarios."
   ]
  },
  {
   "cell_type": "code",
   "execution_count": 5,
   "id": "6ad34299-d546-49f1-b489-a02efe1b90ca",
   "metadata": {},
   "outputs": [
    {
     "name": "stdout",
     "output_type": "stream",
     "text": [
      "Welcome to the Text-Based Adventure Game!\n",
      "You find yourself in a dark forest. There are two paths ahead of you.\n"
     ]
    },
    {
     "name": "stdin",
     "output_type": "stream",
     "text": [
      "Whick path will you take? Left or Right?  right\n"
     ]
    },
    {
     "name": "stdout",
     "output_type": "stream",
     "text": [
      "You choose the right path.\n",
      "You encounter a riven. There is a bridge to your left and a boat to your right.\n"
     ]
    },
    {
     "name": "stdin",
     "output_type": "stream",
     "text": [
      "Do you want to take the bridge or the boat? boat\n"
     ]
    },
    {
     "name": "stdout",
     "output_type": "stream",
     "text": [
      "You take the boat but it capsizes, and you end up in the river.\n",
      "You stuggle to swim and eventually make it to the other side.\n",
      "Exhausted and wet, you find yourself in a dense forest. Your adventure continues.\n",
      "Thank you for playing the text-based adventure game!\n"
     ]
    }
   ],
   "source": [
    "import time\n",
    "\n",
    "def print_slow(text):\n",
    "    for char in text:\n",
    "        print(char, end='', flush=True)\n",
    "        time.sleep(0.03)\n",
    "    print()\n",
    "    \n",
    "def start_game():\n",
    "    print_slow(\"Welcome to the Text-Based Adventure Game!\")\n",
    "    print_slow(\"You find yourself in a dark forest. There are two paths ahead of you.\")\n",
    "    choice=input(\"Whick path will you take? Left or Right? \").lower()\n",
    "    \n",
    "    if 'left' in choice:\n",
    "        left_path()\n",
    "    elif 'right' in choice:\n",
    "        right_path()\n",
    "    else:\n",
    "        print_slow(\"Invalid choice. Please enter 'Left' or 'Right'.\")\n",
    "        start_game()\n",
    "        \n",
    "def left_path():\n",
    "    print_slow(\"You choice the left path.\")\n",
    "    print_slow(\"You encounter a mysterious cave. Do you want to enter it?\")\n",
    "    choice=input(\"yes or no?\").lower()\n",
    "    \n",
    "    if 'yes' in choice:\n",
    "        cave()\n",
    "    elif 'no' in choice:\n",
    "        print_slow(\"You decide not to enter the cave and continue down the path.\")\n",
    "        left_path()\n",
    "    else:\n",
    "        print_slow(\"Invalid choice. Please enter 'yes' or 'no'.\")\n",
    "        left_path()\n",
    "def cave():\n",
    "    print_slow(\"You enter the cave and find a treasure chest!\")\n",
    "    print_slow(\"Do you want to open it?\")\n",
    "    choice=input(\"Yes or No?\").lower()\n",
    "    \n",
    "    if 'yes' in choice:\n",
    "        print_slow(\"Congradulation! You found a pile of gold coins. You win the game!\")\n",
    "    elif 'no' in choice:\n",
    "        print_slow(\"You leave the treasure chest untouched and exit the cave.\")\n",
    "    else:\n",
    "        print_slow(\"Invalid choice. Please enter 'yes' or 'no'\")\n",
    "        cave()\n",
    "def right_path():\n",
    "    print_slow(\"You choose the right path.\")\n",
    "    print_slow(\"You encounter a riven. There is a bridge to your left and a boat to your right.\")\n",
    "    choice=input(\"Do you want to take the bridge or the boat?\").lower()\n",
    "    \n",
    "    if 'bridge' in choice:\n",
    "        bridge()\n",
    "    elif 'boat' in choice:\n",
    "        boat()\n",
    "    else:\n",
    "        print_slow(\"Invalid choice. Please enter 'bright' or 'boat'.\")\n",
    "        right_path()\n",
    "\n",
    "def bridge():\n",
    "    print_slow(\"You take the bridge and successfully cross the river.\")\n",
    "    print_slow(\"On the other side, you fid a village. You have completed your adventur!\")\n",
    "    finish_game()\n",
    "\n",
    "def boat():\n",
    "    print_slow(\"You take the boat but it capsizes, and you end up in the river.\")\n",
    "    print_slow(\"You stuggle to swim and eventually make it to the other side.\")\n",
    "    print_slow(\"Exhausted and wet, you find yourself in a dense forest. Your adventure continues.\")\n",
    "    finish_game()\n",
    "    \n",
    "def finish_game():\n",
    "    print_slow(\"Thank you for playing the text-based adventure game!\")\n",
    "    \n",
    "if __name__==\"__main__\":\n",
    "    start_game()"
   ]
  },
  {
   "cell_type": "markdown",
   "id": "159a6c06-c641-4cec-ac45-10b91cec02fc",
   "metadata": {},
   "source": [
    "55. Build a program that solves a linear equation for x, considering different cases."
   ]
  },
  {
   "cell_type": "code",
   "execution_count": 4,
   "id": "074bc943-3a18-4527-8aad-1b762a2d5965",
   "metadata": {},
   "outputs": [
    {
     "name": "stdin",
     "output_type": "stream",
     "text": [
      "enter the value of 'a': 7\n",
      "enter the value of 'b': 8\n",
      "enter the value of 'c': 9\n"
     ]
    },
    {
     "name": "stdout",
     "output_type": "stream",
     "text": [
      "The solution for the equation 7.0x +8.0=9.0 is x=0.14285714285714285\n"
     ]
    }
   ],
   "source": [
    "def solve_linear_equation(a,b,c):\n",
    "    if a==0:\n",
    "        if b==c:\n",
    "            print(\"Infinite solutions (the equation is always true)\")\n",
    "        else:\n",
    "            print(\"No solution (the equation is always false)\")\n",
    "    else:\n",
    "        x=(c-b)/a\n",
    "        print(f\"The solution for the equation {a}x +{b}={c} is x={x}\")\n",
    "\n",
    "# Input coefficients a, b, and c\n",
    "a=float(input(\"enter the value of 'a':\"))\n",
    "b=float(input(\"enter the value of 'b':\"))\n",
    "c=float(input(\"enter the value of 'c':\"))\n",
    "\n",
    "# Call the function to solve the equation\n",
    "\n",
    "solve_linear_equation(a,b,c)"
   ]
  },
  {
   "cell_type": "markdown",
   "id": "21660c50-295c-48f2-b7ea-b61de4436fc1",
   "metadata": {},
   "source": [
    "56. Write a program that simulates a basic quiz game with multiple-choice questions and scoring."
   ]
  },
  {
   "cell_type": "code",
   "execution_count": 9,
   "id": "14abdcbd-2ba2-4cb7-ae86-48e062fa0d11",
   "metadata": {},
   "outputs": [
    {
     "name": "stdout",
     "output_type": "stream",
     "text": [
      "Welcome to the Quiz Game!\n",
      "\n",
      "Question 1: What is the capital of France?\n",
      "1. 1.London\n",
      "2. 2.Paris\n",
      "3. 3.Berlin\n",
      "4. 4.Rome\n"
     ]
    },
    {
     "name": "stdin",
     "output_type": "stream",
     "text": [
      "Your choice (1-4): 2\n"
     ]
    },
    {
     "name": "stdout",
     "output_type": "stream",
     "text": [
      "Correct! You earn a point.\n",
      "\n",
      "Question 2: Which planet is known as the 'Red Planet'?\n",
      "1. 1.Mars\n",
      "2. 2.Venus\n",
      "3. 3.Earth\n",
      "4. 4.Jupiter\n"
     ]
    },
    {
     "name": "stdin",
     "output_type": "stream",
     "text": [
      "Your choice (1-4): 1\n"
     ]
    },
    {
     "name": "stdout",
     "output_type": "stream",
     "text": [
      "Correct! You earn a point.\n",
      "\n",
      "Question 3: What is the largest mammal in the world?\n",
      "1. 1.Elephant\n",
      "2. 2.Giraffe\n",
      "3. 3.Blue Whale\n",
      "4. 4.Lion\n"
     ]
    },
    {
     "name": "stdin",
     "output_type": "stream",
     "text": [
      "Your choice (1-4): 3\n"
     ]
    },
    {
     "name": "stdout",
     "output_type": "stream",
     "text": [
      "Correct! You earn a point.\n",
      "\n",
      "Quiz completed! Your score: 3/3\n"
     ]
    }
   ],
   "source": [
    "class Question:\n",
    "    def __init__(self,text, options, correct_option):\n",
    "        self.text=text\n",
    "        self.option=options\n",
    "        self.correct_option=correct_option\n",
    "        \n",
    "    def is_correct(self, choice):\n",
    "        return self.correct_option==choice\n",
    "\n",
    "class Quiz:\n",
    "    def __init__(self):\n",
    "        self.questions=[]\n",
    "        self.score=0\n",
    "        \n",
    "    def add_question(self, question):\n",
    "        self.questions.append(question)\n",
    "        \n",
    "    def start_quiz(self):\n",
    "        print('Welcome to the Quiz Game!')\n",
    "        for i, question in enumerate(self.questions,1):\n",
    "            print(f\"\\nQuestion {i}: {question.text}\")\n",
    "            for j, option in enumerate(question.option,1):\n",
    "                print(f\"{j}. {option}\")\n",
    "            choice=int(input(\"Your choice (1-4):\"))\n",
    "            if question.is_correct(choice):\n",
    "                print(\"Correct! You earn a point.\")\n",
    "                self.score+=1\n",
    "            else:\n",
    "                print(f\"Sorry, the correct answer was {question.correct_option}.\")\n",
    "        self.display_score()\n",
    "                \n",
    "    def display_score(self):\n",
    "        print(f\"\\nQuiz completed! Your score: {self.score}/{len(self.questions)}\")\n",
    "    \n",
    "    \n",
    "if __name__==\"__main__\":\n",
    "    q1=Question(\"What is the capital of France?\", [\"1.London\",\"2.Paris\",\"3.Berlin\",\"4.Rome\"],2)\n",
    "    q2=Question(\"Which planet is known as the 'Red Planet'?\",[\"1.Mars\",\"2.Venus\",\"3.Earth\",\"4.Jupiter\"],1)\n",
    "    q3=Question(\"What is the largest mammal in the world?\",[\"1.Elephant\",\"2.Giraffe\",\"3.Blue Whale\",\"4.Lion\"],3)\n",
    "\n",
    "    quiz=Quiz()\n",
    "\n",
    "    quiz.add_question(q1)\n",
    "    quiz.add_question(q2)\n",
    "    quiz.add_question(q3)\n",
    "\n",
    "    quiz.start_quiz()"
   ]
  },
  {
   "cell_type": "markdown",
   "id": "a02a0415-d1ab-4366-a20d-6d19d8de32cb",
   "metadata": {},
   "source": [
    "57. Develop a program that determines whether a given year is a prime number or not."
   ]
  },
  {
   "cell_type": "code",
   "execution_count": 13,
   "id": "207ad57b-fdde-4e98-acc8-59ee578fe057",
   "metadata": {},
   "outputs": [
    {
     "name": "stdin",
     "output_type": "stream",
     "text": [
      "enter a year: 47\n"
     ]
    },
    {
     "name": "stdout",
     "output_type": "stream",
     "text": [
      "47 is a prime year.\n"
     ]
    }
   ],
   "source": [
    "def is_prime(year):\n",
    "    if year<=1:\n",
    "        return False\n",
    "    if year<=3:\n",
    "        return True\n",
    "    \n",
    "    if year%2==0 or year%3==0:\n",
    "        return False\n",
    "    \n",
    "    i=5\n",
    "    while i*i <=year:\n",
    "        if year%i==0 or year%(i+2)==0:\n",
    "            return False\n",
    "        \n",
    "        i+=6\n",
    "        \n",
    "    return True\n",
    "\n",
    "# Input a year\n",
    "year=int(input('enter a year:'))\n",
    "\n",
    "if is_prime(year):\n",
    "    print(f\"{year} is a prime year.\")\n",
    "else:\n",
    "    print(f\"{year} is not a prime year.\")"
   ]
  },
  {
   "cell_type": "markdown",
   "id": "77a2a9bf-2760-4f86-a384-802840af2079",
   "metadata": {},
   "source": [
    "58. Create a program that sorts three numbers in ascending order using conditional statements."
   ]
  },
  {
   "cell_type": "code",
   "execution_count": 4,
   "id": "89d9d7ea-e49f-4666-8780-947a1d7e7778",
   "metadata": {},
   "outputs": [
    {
     "name": "stdin",
     "output_type": "stream",
     "text": [
      "enter 1st number: 90\n",
      "enter 2nd number: 78\n",
      "enter 3rd number: 56\n"
     ]
    },
    {
     "name": "stdout",
     "output_type": "stream",
     "text": [
      "The numbers in ascending order are: (56.0, 78.0, 90.0)\n"
     ]
    }
   ],
   "source": [
    "#### taking user input \n",
    "\n",
    "num1=float(input('enter 1st number:'))\n",
    "num2=float(input('enter 2nd number:'))\n",
    "num3=float(input('enter 3rd number:'))\n",
    "\n",
    "if num1<=num2<=num3:\n",
    "    order=num1,num2,num3\n",
    "elif num1<=num3<=num2:\n",
    "    order=num1,num3,num2\n",
    "elif num2<=num1<=num3:\n",
    "    order=num2,num1,num3\n",
    "elif num2<=num3<=num1:\n",
    "    order=num2,num3,num1\n",
    "elif num3<=num1<=num2:\n",
    "    order=num3,num1,num2\n",
    "elif num3<=num2<=num1:\n",
    "    order=num3,num2,num1\n",
    "else:\n",
    "    order=None\n",
    "    \n",
    "print('The numbers in ascending order are:',order)"
   ]
  },
  {
   "cell_type": "markdown",
   "id": "42e93734-8467-4cda-afce-af023913eb8a",
   "metadata": {},
   "source": [
    "59. Build a program that determines the roots of a quartic equation using numerical methods."
   ]
  },
  {
   "cell_type": "code",
   "execution_count": 17,
   "id": "097f7c91-d24a-4ab9-ae64-1db88a8a7b1f",
   "metadata": {},
   "outputs": [
    {
     "name": "stdout",
     "output_type": "stream",
     "text": [
      "Roots of the quartic equation: [0.3819660056070543, 0.38196599974943757, 0.38196602192326784, 2.6180339728157294]\n"
     ]
    }
   ],
   "source": [
    "import numpy as np\n",
    "from scipy.optimize import newton\n",
    "\n",
    "# Define the quartic equation as a function\n",
    "def quartic_eq(x, a, b, c, d, e):\n",
    "    return a * x**4 + b * x**3 + c * x**2 + d * x + e\n",
    "\n",
    "# Define the derivative of the quartic equation\n",
    "def quartic_eq_derivative(x, a, b, c, d, e):\n",
    "    return 4 * a * x**3 + 3 * b * x**2 + 2 * c * x + d\n",
    "\n",
    "# Function to find the roots of the quartic equation\n",
    "def find_quartic_roots(a, b, c, d, e):\n",
    "    # Initial guesses for the roots (you may need to adjust these)\n",
    "    initial_guesses = [-2, -1, 1, 2]\n",
    "    \n",
    "    # Use Newton's method to find the roots\n",
    "    roots = []\n",
    "    for guess in initial_guesses:\n",
    "        root = newton(quartic_eq, guess, fprime=quartic_eq_derivative, args=(a, b, c, d, e))\n",
    "        roots.append(root)\n",
    "    \n",
    "    return roots\n",
    "\n",
    "# Coefficients of the quartic equation: ax^4 + bx^3 + cx^2 + dx + e\n",
    "a = 1\n",
    "b = -6\n",
    "c = 11\n",
    "d = -6\n",
    "e = 1\n",
    "\n",
    "# Find the roots of the quartic equation\n",
    "roots = find_quartic_roots(a, b, c, d, e)\n",
    "\n",
    "# Print the roots\n",
    "print(\"Roots of the quartic equation:\", roots)\n"
   ]
  },
  {
   "cell_type": "markdown",
   "id": "f4e73529-ece6-4af6-a3ea-19cc3e03cc0f",
   "metadata": {},
   "source": [
    "60. Write a program that calculates the BMI (Body Mass Index) and provides health recommendatons based on the user's input."
   ]
  },
  {
   "cell_type": "code",
   "execution_count": 1,
   "id": "0df7bb30-dc4f-4969-8765-9ea22f07d341",
   "metadata": {},
   "outputs": [
    {
     "name": "stdin",
     "output_type": "stream",
     "text": [
      "enter your weight in kilograms: 46\n",
      "enter your height in meters: 1.6\n"
     ]
    },
    {
     "name": "stdout",
     "output_type": "stream",
     "text": [
      "Your BMI is  17.97\n",
      "Recommendation: You are underweight. It's important to maintain a balanced diet and consider consulting a healthcare professional.\n"
     ]
    }
   ],
   "source": [
    "# Function to calculate BMI\n",
    "\n",
    "def calculate_bmi(weight, height):\n",
    "    return weight/(height**2)\n",
    "\n",
    "# Function to provide health recommendations\n",
    "def get_recommendation(bmi):\n",
    "    if bmi<18.5:\n",
    "        return \"You are underweight. It's important to maintain a balanced diet and consider consulting a healthcare professional.\"\n",
    "    elif 18.5<=bmi<24.9:\n",
    "        return \"Your BMI is in the healthy range. Keep up the good work with diet and exercise!\"\n",
    "    elif 25<=bmi<29.9:\n",
    "        return \"You are overweight. Consider making dietary and lifestyle changes to reach a healthy BMI.\"\n",
    "    else:\n",
    "        return \"You are obese. It's important to consult a healthcare professional for guidance and support.\"\n",
    "\n",
    "    \n",
    "# Get user input for weight (in kilograms) and height (in meters)\n",
    "weight=float(input('enter your weight in kilograms:'))\n",
    "height=float(input('enter your height in meters:'))\n",
    "\n",
    "# Calculate BMI\n",
    "\n",
    "bmi=calculate_bmi(weight, height)\n",
    "\n",
    "# Display the calculated BMI and health recommendation\n",
    "print(f\"Your BMI is {bmi: .2f}\")\n",
    "recommendation=get_recommendation(bmi)\n",
    "print(f\"Recommendation: {recommendation}\")"
   ]
  },
  {
   "cell_type": "markdown",
   "id": "079ee35b-4e6b-4b79-afc3-a4bf55198dd4",
   "metadata": {},
   "source": [
    "Challenge Level:"
   ]
  },
  {
   "cell_type": "markdown",
   "id": "b39d3205-9ce6-4cb4-8877-6ad274b23d62",
   "metadata": {},
   "source": [
    "61. Create a program that validates a password based on complexity rules (length, characters, etc.)."
   ]
  },
  {
   "cell_type": "code",
   "execution_count": 8,
   "id": "acf754f1-b872-459b-b428-c8e3e2502d75",
   "metadata": {},
   "outputs": [
    {
     "name": "stdin",
     "output_type": "stream",
     "text": [
      "Enter a password: Nag@0077\n"
     ]
    },
    {
     "name": "stdout",
     "output_type": "stream",
     "text": [
      "Password is valid.\n"
     ]
    }
   ],
   "source": [
    "import re\n",
    "\n",
    "def is_valid_password(password):\n",
    "    # Check the length of the password\n",
    "    if len(password)<8:\n",
    "        return False\n",
    "    # Check for at least one lowercase letter\n",
    "    if not any(char.islower() for char in password):\n",
    "        return False\n",
    "    # Check for at least one uppercase letter\n",
    "    if not any(char.isupper() for char in password):\n",
    "        return False\n",
    "    # Check for at least one digit\n",
    "    if not any(char.isdigit() for char in password):\n",
    "        return False\n",
    "    \n",
    "    # Check for at least one special character\n",
    "    \n",
    "    if not re.search(r'[!@#$$%^&*()_+{}\\[\\]:;<>,.?~\\\\-]', password):\n",
    "        return False\n",
    "    return True\n",
    "\n",
    "# Get user input for a password\n",
    "password=input(\"Enter a password:\")\n",
    "# Check if the password is valid\n",
    "\n",
    "if is_valid_password(password):\n",
    "    print(\"Password is valid.\")\n",
    "else:\n",
    "    print(\"Password is not valid. Please ensure it meets the complexity rules.\")"
   ]
  },
  {
   "cell_type": "markdown",
   "id": "0f0c3f10-ae07-480f-95e8-811805a1850b",
   "metadata": {},
   "source": [
    "62. Develop a program that performs matrix addition and subtraction based on user input."
   ]
  },
  {
   "cell_type": "code",
   "execution_count": 1,
   "id": "111ec18a-29c6-436b-966b-b66a67251bde",
   "metadata": {},
   "outputs": [
    {
     "name": "stdin",
     "output_type": "stream",
     "text": [
      "enter the number of rows: 5\n",
      "enter the number of columns: 6\n"
     ]
    },
    {
     "name": "stdout",
     "output_type": "stream",
     "text": [
      "Input the first matrix:\n",
      "Enter elements for a 5x6 matrix:\n"
     ]
    },
    {
     "name": "stdin",
     "output_type": "stream",
     "text": [
      "Enter the element at row 1, column 1:  1\n",
      "Enter the element at row 1, column 2:  2\n",
      "Enter the element at row 1, column 3:  3\n",
      "Enter the element at row 1, column 4:  4\n",
      "Enter the element at row 1, column 5:  5\n",
      "Enter the element at row 1, column 6:  6\n",
      "Enter the element at row 2, column 1:  7\n",
      "Enter the element at row 2, column 2:  8\n",
      "Enter the element at row 2, column 3:  9\n",
      "Enter the element at row 2, column 4:  0\n",
      "Enter the element at row 2, column 5:  9\n",
      "Enter the element at row 2, column 6:  8\n",
      "Enter the element at row 3, column 1:  7\n",
      "Enter the element at row 3, column 2:  6\n",
      "Enter the element at row 3, column 3:  5\n",
      "Enter the element at row 3, column 4:  4\n",
      "Enter the element at row 3, column 5:  3\n",
      "Enter the element at row 3, column 6:  2\n",
      "Enter the element at row 4, column 1:  1\n",
      "Enter the element at row 4, column 2:  11\n",
      "Enter the element at row 4, column 3:  2\n",
      "Enter the element at row 4, column 4:  33\n",
      "Enter the element at row 4, column 5:  4\n",
      "Enter the element at row 4, column 6:  5\n",
      "Enter the element at row 5, column 1:  6\n",
      "Enter the element at row 5, column 2:  7\n",
      "Enter the element at row 5, column 3:  8\n",
      "Enter the element at row 5, column 4:  9\n",
      "Enter the element at row 5, column 5:  0\n",
      "Enter the element at row 5, column 6:  9\n"
     ]
    },
    {
     "name": "stdout",
     "output_type": "stream",
     "text": [
      "Enter elements for a 5x6 matrix:\n"
     ]
    },
    {
     "name": "stdin",
     "output_type": "stream",
     "text": [
      "Enter the element at row 1, column 1:  8\n",
      "Enter the element at row 1, column 2:  7\n",
      "Enter the element at row 1, column 3:  6\n",
      "Enter the element at row 1, column 4:  5\n",
      "Enter the element at row 1, column 5:  4\n",
      "Enter the element at row 1, column 6:  3\n",
      "Enter the element at row 2, column 1:  2\n",
      "Enter the element at row 2, column 2:  1\n",
      "Enter the element at row 2, column 3:  4\n",
      "Enter the element at row 2, column 4:  5\n",
      "Enter the element at row 2, column 5:  6\n",
      "Enter the element at row 2, column 6:  7\n",
      "Enter the element at row 3, column 1:  8\n",
      "Enter the element at row 3, column 2:  9\n",
      "Enter the element at row 3, column 3:  0\n",
      "Enter the element at row 3, column 4:  5\n",
      "Enter the element at row 3, column 5:  4\n",
      "Enter the element at row 3, column 6:  3\n",
      "Enter the element at row 4, column 1:  2\n",
      "Enter the element at row 4, column 2:  3\n",
      "Enter the element at row 4, column 3:  4\n",
      "Enter the element at row 4, column 4:  5\n",
      "Enter the element at row 4, column 5:  6\n",
      "Enter the element at row 4, column 6:  7\n",
      "Enter the element at row 5, column 1:  9\n",
      "Enter the element at row 5, column 2:  77\n",
      "Enter the element at row 5, column 3:  6\n",
      "Enter the element at row 5, column 4:  5\n",
      "Enter the element at row 5, column 5:  4\n",
      "Enter the element at row 5, column 6:  3\n"
     ]
    },
    {
     "name": "stdout",
     "output_type": "stream",
     "text": [
      "Matrix 1:\n",
      "1.0\t2.0\t3.0\t4.0\t5.0\t6.0\t\n",
      "7.0\t8.0\t9.0\t0.0\t9.0\t8.0\t\n",
      "7.0\t6.0\t5.0\t4.0\t3.0\t2.0\t\n",
      "1.0\t11.0\t2.0\t33.0\t4.0\t5.0\t\n",
      "6.0\t7.0\t8.0\t9.0\t0.0\t9.0\t\n",
      "Matrix 2:\n",
      "8.0\t7.0\t6.0\t5.0\t4.0\t3.0\t\n",
      "2.0\t1.0\t4.0\t5.0\t6.0\t7.0\t\n",
      "8.0\t9.0\t0.0\t5.0\t4.0\t3.0\t\n",
      "2.0\t3.0\t4.0\t5.0\t6.0\t7.0\t\n",
      "9.0\t77.0\t6.0\t5.0\t4.0\t3.0\t\n",
      "Matrix Addition Result:\n",
      "9.0\t9.0\t9.0\t9.0\t9.0\t9.0\t\n",
      "9.0\t9.0\t13.0\t5.0\t15.0\t15.0\t\n",
      "15.0\t15.0\t5.0\t9.0\t7.0\t5.0\t\n",
      "3.0\t14.0\t6.0\t38.0\t10.0\t12.0\t\n",
      "15.0\t84.0\t14.0\t14.0\t4.0\t12.0\t\n",
      "Matrix Subtraction Result:\n",
      "-7.0\t-5.0\t-3.0\t-1.0\t1.0\t3.0\t\n",
      "5.0\t7.0\t5.0\t-5.0\t3.0\t1.0\t\n",
      "-1.0\t-3.0\t5.0\t-1.0\t-1.0\t-1.0\t\n",
      "-1.0\t8.0\t-2.0\t28.0\t-2.0\t-2.0\t\n",
      "-3.0\t-70.0\t2.0\t4.0\t-4.0\t6.0\t\n"
     ]
    }
   ],
   "source": [
    "# Function to input a matrix\n",
    "def input_matrix(rows, cols):\n",
    "    matrix=[]\n",
    "    print(f\"Enter elements for a {rows}x{cols} matrix:\")\n",
    "    for i in range(rows):\n",
    "        row=[]\n",
    "        for j in range(cols):\n",
    "            element=float(input(f\"Enter the element at row {i+1}, column {j+1}: \"))\n",
    "            row.append(element)\n",
    "        matrix.append(row)\n",
    "    return matrix\n",
    "\n",
    "# Function to add two matrices\n",
    "def add_matrices(matrix1, matrix2):\n",
    "    if len(matrix1)!=len(matrix2) or len(matrix1[0]) != len(matrix2[0]):\n",
    "        return None # Matrices must have the same dimension for addition\n",
    "    result=[]\n",
    "    for i in range(len(matrix1)):\n",
    "        row=[]\n",
    "        for j in range(len(matrix1[0])):\n",
    "            row.append(matrix1[i][j] + matrix2[i][j])\n",
    "        result.append(row)\n",
    "    return result\n",
    "# function to subtract two matrices\n",
    "def subtract_matrices(matrix1, matrix2):\n",
    "    if len(matrix1)!=len(matrix2) or len(matrix1[0])!=len(matrix2[0]):\n",
    "        return None # Matrices must have the same dimensions for subtraction\n",
    "    result=[]\n",
    "    for i in range(len(matrix1)):\n",
    "        row=[]\n",
    "        for j in range(len(matrix1[0])):\n",
    "            row.append(matrix1[i][j]-matrix2[i][j])\n",
    "        result.append(row)\n",
    "    return result\n",
    "\n",
    "# function to display a matrix\n",
    "def display_matrix(matrix):\n",
    "    for row in matrix:\n",
    "        for element in row:\n",
    "            print(element,end=\"\\t\")\n",
    "        print()\n",
    "# Input the dimensions of the matrices\n",
    "rows=int(input('enter the number of rows:'))\n",
    "cols=int(input('enter the number of columns:'))\n",
    "\n",
    "# Input the first matrix\n",
    "print('Input the first matrix:')\n",
    "matrix1=input_matrix(rows, cols)\n",
    "# Input the second matrix\n",
    "matrix2=input_matrix(rows, cols)\n",
    "# Perform matrix addition\n",
    "result_add=add_matrices(matrix1, matrix2)\n",
    "\n",
    "# Perform matrix subtraction\n",
    "result_subtract=subtract_matrices(matrix1, matrix2)\n",
    "                       \n",
    "# Display the results\n",
    "\n",
    "print(\"Matrix 1:\")\n",
    "display_matrix(matrix1)\n",
    "print(\"Matrix 2:\")\n",
    "display_matrix(matrix2)\n",
    "\n",
    "if result_add:\n",
    "    print(\"Matrix Addition Result:\")\n",
    "    display_matrix(result_add)\n",
    "else:\n",
    "    print(\"Matrix addition is not possible due to different dimensions.\")\n",
    "if result_subtract:\n",
    "    print(\"Matrix Subtraction Result:\")\n",
    "    display_matrix(result_subtract)\n",
    "else:\n",
    "    print(\"Matrix subtraction is not possible due to different dimension.\")                 "
   ]
  },
  {
   "cell_type": "markdown",
   "id": "e9b13c44-a6b6-4e7a-99b3-090827893ce3",
   "metadata": {},
   "source": [
    "63. Write a program that calculates the greatest common divisor (GCD) of two numbers using the Euclidean algorithm."
   ]
  },
  {
   "cell_type": "code",
   "execution_count": 5,
   "id": "0f508922-a343-40fd-bb9b-0dcf26838c0d",
   "metadata": {},
   "outputs": [
    {
     "name": "stdin",
     "output_type": "stream",
     "text": [
      "enter 1st number: 500\n",
      "enter 2nd number: 750\n"
     ]
    },
    {
     "name": "stdout",
     "output_type": "stream",
     "text": [
      "The GCD of 500 and 750 is 250\n"
     ]
    }
   ],
   "source": [
    "def euclidean_gcd(a,b):\n",
    "    while b:\n",
    "        a,b=b,a%b    # Euclidean algorithm\n",
    "    return a\n",
    "\n",
    "# user input\n",
    "num1=int(input('enter 1st number:'))\n",
    "num2=int(input('enter 2nd number:'))\n",
    "\n",
    "# Call the function and display result\n",
    "\n",
    "gcd=euclidean_gcd(num1, num2)\n",
    "print(f\"The GCD of {num1} and {num2} is {gcd}\")"
   ]
  },
  {
   "cell_type": "markdown",
   "id": "8fdd0172-29f7-4e0c-bd29-900e8ee4a1c4",
   "metadata": {},
   "source": [
    "64. Build a program that performs matrix multiplication using nested loops and conditional statements."
   ]
  },
  {
   "cell_type": "code",
   "execution_count": 5,
   "id": "601a0975-8e2e-44ad-9ca1-984d81a40030",
   "metadata": {},
   "outputs": [
    {
     "name": "stdout",
     "output_type": "stream",
     "text": [
      "Matrix Multiplication Result:\n",
      "[19, 22]\n",
      "[43, 50]\n"
     ]
    }
   ],
   "source": [
    "def matrix_multiplication(matrix1, matrix2):\n",
    "    rows1=len(matrix1)\n",
    "    cols1=len(matrix1[0])\n",
    "    rows2=len(matrix2)\n",
    "    cols2=len(matrix2[0])\n",
    "    \n",
    "    if cols1!=rows2:\n",
    "        return None  # Matrix multiplication is not possible\n",
    "    \n",
    "    result= [[0 for _ in range(cols2)] for _ in range(rows1)]\n",
    "    \n",
    "    for i in range(rows1):\n",
    "        for j in range(cols2):\n",
    "            for k in range(cols1):\n",
    "                result[i][j]+=matrix1[i][k] * matrix2[k][j]\n",
    "                \n",
    "    return result\n",
    "\n",
    "# Input matrices\n",
    "matrix1=[[1,2],\n",
    "         [3,4]]\n",
    "\n",
    "matrix2=[[5,6],\n",
    "         [7,8]]\n",
    "\n",
    "# Perform matrix multiplication\n",
    "result=matrix_multiplication(matrix1, matrix2)\n",
    "\n",
    "if result:\n",
    "    print(\"Matrix Multiplication Result:\")\n",
    "    for row in result:\n",
    "        print(row)\n",
    "else:\n",
    "    print(\"Matrix multiplication is not possible due to incompatible dimensions.\")"
   ]
  },
  {
   "cell_type": "markdown",
   "id": "9acbfde4-aaee-42ce-98b2-38808f6e1b3b",
   "metadata": {},
   "source": [
    "65. Create a program that simulates a basic text-based tic-tac-toe game against the computer."
   ]
  },
  {
   "cell_type": "code",
   "execution_count": 15,
   "id": "a06c2218-e3c6-45e6-a7a6-da2cc5ecd634",
   "metadata": {},
   "outputs": [
    {
     "name": "stdout",
     "output_type": "stream",
     "text": [
      "Welcome to Tic-Tac-toe!\n",
      "   |   |  \n",
      "---+---+---\n",
      "   |   |  \n",
      "---+---+---\n",
      "   |   |  \n"
     ]
    },
    {
     "name": "stdin",
     "output_type": "stream",
     "text": [
      "enter your move(1-9):  4\n"
     ]
    },
    {
     "name": "stdout",
     "output_type": "stream",
     "text": [
      "   |   |  \n",
      "---+---+---\n",
      " X |   |  \n",
      "---+---+---\n",
      "   |   |  \n",
      "Computer's turn...\n",
      "   |   |  \n",
      "---+---+---\n",
      " X |   |  \n",
      "---+---+---\n",
      " O |   |  \n"
     ]
    },
    {
     "name": "stdin",
     "output_type": "stream",
     "text": [
      "enter your move(1-9):  5\n"
     ]
    },
    {
     "name": "stdout",
     "output_type": "stream",
     "text": [
      "   |   |  \n",
      "---+---+---\n",
      " X | X |  \n",
      "---+---+---\n",
      " O |   |  \n",
      "Computer's turn...\n",
      "   | O |  \n",
      "---+---+---\n",
      " X | X |  \n",
      "---+---+---\n",
      " O |   |  \n"
     ]
    },
    {
     "name": "stdin",
     "output_type": "stream",
     "text": [
      "enter your move(1-9):  6\n"
     ]
    },
    {
     "name": "stdout",
     "output_type": "stream",
     "text": [
      "   | O |  \n",
      "---+---+---\n",
      " X | X | X\n",
      "---+---+---\n",
      " O |   |  \n",
      "Congradulations! You win!\n"
     ]
    }
   ],
   "source": [
    "import random\n",
    "\n",
    "# Initialize the board\n",
    "board=[\" \" for _ in range(9)]\n",
    "\n",
    "# Function to display the tic-tac-toe board\n",
    "def display_board(board):\n",
    "    print(\" \"+board[0]+\" | \" +board[1] +\" | \"+ board[2])\n",
    "    print(\"---+---+---\")\n",
    "    print(\" \"+board[3]+\" | \"+board[4] + \" | \"+ board[5])\n",
    "    print(\"---+---+---\")\n",
    "    print(\" \"+board[6]+ \" | \"+board[7]+ \" | \"+board[8])\n",
    "    \n",
    "# Function to check if the player has won\n",
    "def check_win(board, player):\n",
    "    win_condition=[\n",
    "        [0, 1, 2], [3, 4, 5], [6, 7, 8],  # Rows\n",
    "        [0, 3, 6], [1, 4, 7], [2, 5, 8], # Columns\n",
    "        [0, 4, 8], [2, 4, 6]              # Diagonals\n",
    "    ]\n",
    "    \n",
    "    \n",
    "    for condition in win_condition:\n",
    "        if all(board[i]==player for i in condition):\n",
    "            return True\n",
    "    return False\n",
    "\n",
    "# Function to check if the board is full\n",
    "def is_board_full(board):\n",
    "    return \" \" not in board\n",
    "\n",
    "# Function to make a player's move\n",
    "def player_move(board):\n",
    "    while True:\n",
    "        try:\n",
    "            move=int(input('enter your move(1-9): '))-1\n",
    "            if 0<=move<=8 and board[move]==\" \":\n",
    "                return move\n",
    "            else:\n",
    "                print(\"Invalid move. Try again.\")\n",
    "        except ValueError:\n",
    "            print(\"Invalid input. Enter a number between 1 and 9.\")\n",
    "            \n",
    "# Function for the computer's move\n",
    "def computer_move(board):\n",
    "    available_moves=[i for i in range(9) if board[i]==\" \"]\n",
    "    return random.choice(available_moves)\n",
    "\n",
    "# Main game loop\n",
    "def main():\n",
    "    player_symbol='X'\n",
    "    computer_symbol='O'\n",
    "    \n",
    "    print(\"Welcome to Tic-Tac-toe!\")\n",
    "    display_board(board)\n",
    "    \n",
    "    while True:\n",
    "        # Player's turn\n",
    "        player_turn=True\n",
    "        while player_turn:\n",
    "            player_move_index=player_move(board)\n",
    "            board[player_move_index]=player_symbol\n",
    "            display_board(board)\n",
    "            if check_win(board, player_symbol):\n",
    "                print(\"Congradulations! You win!\")\n",
    "                return\n",
    "            if is_board_full(board):\n",
    "                print(\"it's a tie!\")\n",
    "                return\n",
    "            player_turn=False\n",
    "            \n",
    "        # Computer's turn\n",
    "        computer_turn=True\n",
    "        while computer_turn:\n",
    "            print(\"Computer's turn...\")\n",
    "            computer_move_index=computer_move(board)\n",
    "            board[computer_move_index]= computer_symbol\n",
    "            display_board(board)\n",
    "            if check_win(board,computer_symbol):\n",
    "                print(\"Computer wins! Better luck next time.\")\n",
    "                return\n",
    "            if is_board_full(board):\n",
    "                print(\"it's a tie!\")\n",
    "                return\n",
    "            computer_turn=False\n",
    "            \n",
    "if __name__==\"__main__\":\n",
    "    main()"
   ]
  },
  {
   "cell_type": "markdown",
   "id": "d085d50a-3407-4df2-b457-16996577a80c",
   "metadata": {},
   "source": [
    "66. Write a program that generates Fibonacci numbers up to a specified term using iterative methods."
   ]
  },
  {
   "cell_type": "code",
   "execution_count": 16,
   "id": "a995f5fc-d0e7-461e-8ad6-975b2ee355db",
   "metadata": {},
   "outputs": [
    {
     "name": "stdin",
     "output_type": "stream",
     "text": [
      "enter the number of fibonacci terms to generate: 10\n"
     ]
    },
    {
     "name": "stdout",
     "output_type": "stream",
     "text": [
      "Fibonacci sequence up to 10 terms:\n",
      "[0, 1, 1, 2, 3, 5, 8, 13, 21, 34]\n"
     ]
    }
   ],
   "source": [
    "def generate_fibonacci(n):\n",
    "    if n<=0:\n",
    "        return []\n",
    "    elif n==1:\n",
    "        return [0]\n",
    "    elif n==2:\n",
    "        return [0,1]\n",
    "    \n",
    "    fibonacci_sequence=[0,1]\n",
    "    while len(fibonacci_sequence)<n:\n",
    "        next_number=fibonacci_sequence[-1] + fibonacci_sequence[-2]\n",
    "        fibonacci_sequence.append(next_number)\n",
    "    return fibonacci_sequence\n",
    "\n",
    "# Input : Number of fibonacci terms to generate\n",
    "n=int(input('enter the number of fibonacci terms to generate:'))\n",
    "\n",
    "fibonacci_sequence=generate_fibonacci(n)\n",
    "\n",
    "print(\"Fibonacci sequence up to {} terms:\".format(n))\n",
    "print(fibonacci_sequence)"
   ]
  },
  {
   "cell_type": "markdown",
   "id": "4ed742c5-e45f-49ed-a098-a2fa9b8e8fef",
   "metadata": {},
   "source": [
    "67. Develop a program that calculates the nth term of the Fibonacci sequence using memoization."
   ]
  },
  {
   "cell_type": "code",
   "execution_count": 6,
   "id": "c0d21e60-96da-4367-b5ed-513a019a14c5",
   "metadata": {},
   "outputs": [
    {
     "name": "stdin",
     "output_type": "stream",
     "text": [
      "enter the term (n) to find the fibonacci number:  10\n"
     ]
    },
    {
     "name": "stdout",
     "output_type": "stream",
     "text": [
      "The 10-th Fibonacci number is: 55\n"
     ]
    }
   ],
   "source": [
    "# Dictionary to store already computed fibonacci numbers\n",
    "\n",
    "fibonacci_cache={}\n",
    "\n",
    "def fibonacci(n):\n",
    "    if n in fibonacci_cache:\n",
    "        # if the value is already in the cache, return it\n",
    "        return fibonacci_cache[n]\n",
    "    \n",
    "    # Calculate the fibonacci number\n",
    "    if n==0:\n",
    "        result=0\n",
    "    elif n==1:\n",
    "        result=1\n",
    "    else:\n",
    "        result=fibonacci(n-1) + fibonacci(n-2)\n",
    "        \n",
    "    # Store the result in cache and return it\n",
    "    fibonacci_cache[n]=result\n",
    "    return result\n",
    "\n",
    "# Input: The term (n) for which you want to find the fibonacci number\n",
    "n=int(input(\"enter the term (n) to find the fibonacci number: \"))\n",
    "if n<0:\n",
    "    print(\"Please enter non-negative integer.\")\n",
    "else:\n",
    "    result=fibonacci(n)\n",
    "    print(\"The {}-th Fibonacci number is: {}\".format(n, result))"
   ]
  },
  {
   "cell_type": "markdown",
   "id": "4952703e-fb69-4dea-96dc-0f8ea411501c",
   "metadata": {},
   "source": [
    "68. Create a program that generates a calender for a given month and year using conditional statements."
   ]
  },
  {
   "cell_type": "code",
   "execution_count": 2,
   "id": "6459e411-92e7-466b-87c9-d068441865f9",
   "metadata": {},
   "outputs": [
    {
     "name": "stdin",
     "output_type": "stream",
     "text": [
      "Enter the year: 2000\n",
      "Enter the month: 2\n"
     ]
    },
    {
     "name": "stdout",
     "output_type": "stream",
     "text": [
      "\n",
      "Calendar for 2000-2\n",
      "   February 2000\n",
      "Mo Tu We Th Fr Sa Su\n",
      "    1  2  3  4  5  6\n",
      " 7  8  9 10 11 12 13\n",
      "14 15 16 17 18 19 20\n",
      "21 22 23 24 25 26 27\n",
      "28 29\n",
      "\n"
     ]
    }
   ],
   "source": [
    "import calendar\n",
    "\n",
    "# Input: Year and Month\n",
    "year=int(input('Enter the year:'))\n",
    "month=int(input('Enter the month:'))\n",
    "\n",
    "# Validate input\n",
    "\n",
    "if month<1 or month>12:\n",
    "    print(\"Invalid month. Please enter a month between 1 and 12.\")\n",
    "else:\n",
    "    # Create calender for year and month\n",
    "    cal=calendar.month(year, month)\n",
    "    \n",
    "    # display the calender\n",
    "    print(\"\\nCalendar for {}-{}\".format(year, month))\n",
    "    print(cal)"
   ]
  },
  {
   "cell_type": "markdown",
   "id": "8d3cd42c-cab8-465c-b8a2-5ef336567a50",
   "metadata": {},
   "source": [
    "69. Build a program that simulates a basic text-based blackjack game against the computer."
   ]
  },
  {
   "cell_type": "code",
   "execution_count": 11,
   "id": "3ed0031a-baa9-46fb-a0c4-43138619e6ca",
   "metadata": {},
   "outputs": [
    {
     "name": "stdout",
     "output_type": "stream",
     "text": [
      "Welcome to Blackjack!\n",
      " Your hand: [10, 10] (total: 20)\n",
      "Computer's hand: [X, 4]\n"
     ]
    },
    {
     "name": "stdin",
     "output_type": "stream",
     "text": [
      "Do you want to 'hit' or 'stand'? stand\n"
     ]
    },
    {
     "name": "stdout",
     "output_type": "stream",
     "text": [
      "\n",
      "Game Over!\n",
      "Your hand: [10, 10] (Total: 20)\n",
      "Computer's hand: [4, 10, 9] (Total: 23)\n",
      "Computer busts. You win!\n"
     ]
    }
   ],
   "source": [
    "import random\n",
    "\n",
    "# Function to deal a random card\n",
    "def deal_card():\n",
    "    cards=[2,3,4,5,6,7,8,9,10,10,10,11]  # 11 represents an Ace\n",
    "    return random.choice(cards)\n",
    "\n",
    "# Function to calculate the total value of a hand\n",
    "def calculate_hand(hand):\n",
    "    # Compare the sum of the hand\n",
    "    total=sum(hand)\n",
    "    \n",
    "    # Check for Aces and adjust their value from 11 to 1 if the total exceeds 21\n",
    "    num_aces= hand.count(11)\n",
    "    while total>21 and num_aces:\n",
    "        total-=10\n",
    "        num_aces-=1\n",
    "        \n",
    "    return total\n",
    "\n",
    "# Initial deal\n",
    "player_hand=[deal_card(),deal_card()]\n",
    "computer_hand=[deal_card()]\n",
    "\n",
    "# Display the initial hands\n",
    "print(\"Welcome to Blackjack!\")\n",
    "print(f\" Your hand: {player_hand} (total: {calculate_hand(player_hand)})\")\n",
    "print(f\"Computer's hand: [X, {computer_hand[0]}]\")\n",
    "\n",
    "\n",
    "# Player's turn\n",
    "while calculate_hand(player_hand)<21:\n",
    "    action=input(\"Do you want to 'hit' or 'stand'?\").lower()\n",
    "    \n",
    "    if action=='hit':\n",
    "        player_hand.append(deal_card())\n",
    "        print(f\"Your hand: {player_hand} (Total: {calculate_hand(player_hand)})\")\n",
    "    elif action=='stand':\n",
    "        break\n",
    "        \n",
    "# Computer's turn\n",
    "\n",
    "while calculate_hand(computer_hand)<17:\n",
    "    computer_hand.append(deal_card())\n",
    "    \n",
    "# Determine the winner\n",
    "player_total=calculate_hand(player_hand)\n",
    "computer_total=calculate_hand(computer_hand)\n",
    "\n",
    "print(\"\\nGame Over!\")\n",
    "print(f\"Your hand: {player_hand} (Total: {player_total})\")\n",
    "print(f\"Computer's hand: {computer_hand} (Total: {computer_total})\")\n",
    "\n",
    "\n",
    "if player_total>21:\n",
    "    print(\"You bust: Computer wins!\")\n",
    "elif computer_total>21:\n",
    "    print(\"Computer busts. You win!\")\n",
    "elif player_total==computer_total:\n",
    "    print(\"It's a push. The game is a tie.\")\n",
    "elif player_total>computer_total:\n",
    "    print(\"You win!\")\n",
    "else:\n",
    "    print(\"Computer wins!\")"
   ]
  },
  {
   "cell_type": "markdown",
   "id": "91a5b4f7-2094-4bfb-bc9a-f40c75233da8",
   "metadata": {},
   "source": [
    "70. Write a program that generates the prime factors of a given number using their trial division."
   ]
  },
  {
   "cell_type": "code",
   "execution_count": 1,
   "id": "a910b6b2-c06b-4a8e-b378-c7b0bf832e5b",
   "metadata": {},
   "outputs": [
    {
     "name": "stdin",
     "output_type": "stream",
     "text": [
      "enter a number: 40\n"
     ]
    },
    {
     "name": "stdout",
     "output_type": "stream",
     "text": [
      "The prime factor of 40 are: [2, 2, 2, 5]\n"
     ]
    }
   ],
   "source": [
    "def prime_factors(n):\n",
    "    factors=[]\n",
    "    divisor=2\n",
    "    \n",
    "    while divisor<=n:\n",
    "        if n%divisor==0:\n",
    "            factors.append(divisor)\n",
    "            n=n//divisor\n",
    "        else:\n",
    "            divisor+=1\n",
    "    return factors\n",
    "\n",
    "# Input: Number for which you want to find prime factors\n",
    "num=int(input(\"enter a number:\"))\n",
    "\n",
    "if num<2:\n",
    "    print(\"Prime factors are not applicable for numbers less than 2.\")\n",
    "else:\n",
    "    factors=prime_factors(num)\n",
    "    if len(factors)==1 and factors[0]==num:\n",
    "        print(f\"{num} is a prime number, and its only prime factor is itself.\")\n",
    "        \n",
    "    else:\n",
    "        print(f\"The prime factor of {num} are: {factors}\")"
   ]
  },
  {
   "cell_type": "code",
   "execution_count": null,
   "id": "ea8ac5a6-a66c-4336-bc88-00bdd710e882",
   "metadata": {},
   "outputs": [],
   "source": []
  }
 ],
 "metadata": {
  "kernelspec": {
   "display_name": "Python 3 (ipykernel)",
   "language": "python",
   "name": "python3"
  },
  "language_info": {
   "codemirror_mode": {
    "name": "ipython",
    "version": 3
   },
   "file_extension": ".py",
   "mimetype": "text/x-python",
   "name": "python",
   "nbconvert_exporter": "python",
   "pygments_lexer": "ipython3",
   "version": "3.10.8"
  }
 },
 "nbformat": 4,
 "nbformat_minor": 5
}
